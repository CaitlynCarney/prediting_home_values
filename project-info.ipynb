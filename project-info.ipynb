{
 "cells": [
  {
   "cell_type": "markdown",
   "metadata": {},
   "source": [
    "# Project Info\n",
    "## Regression Project: Estimating Home Value"
   ]
  },
  {
   "cell_type": "markdown",
   "metadata": {},
   "source": [
    "### Scenario\n",
    "- target is your taxamount\n",
    "    - do not use landtaxdollarcnt\n",
    "    - taxvaluedollarcnt\n",
    "\n",
    "- Goal is to predict a homes value\n",
    "    - but what are you defining as the homes value\n",
    "        - what the county assesses the county at?\n",
    "\n",
    "- You are a junior data scientist on the Zillow data science team and recieve the following email in your inbox:\n",
    "    - We want to be able to predict the values of single unit properties that the tax district assesses using the property data from those with a `transaction` during the \"hot months\" \n",
    "        - **May-August, 2017.**\n",
    "- We also need some additional information outside of the model.\n",
    "    - Zach lost the email that told us where these properties were located. Ugh, Zach :-/. \n",
    "        - Because property taxes are assessed at the county level, we would like to know what **states and counties these are located in**.\n",
    "- We'd also like to know the **distribution of tax rates for each county**.\n",
    "    - a histogram would work with this\n",
    "        - 1 hist per county\n",
    "        - 1 clean layered histogram\n",
    "            - ONLY IF IT IS CLEAN ENOUGH\n",
    "    - The data should have the tax amounts and tax value of the home, so it shouldn't be too hard to calculate. \n",
    "    - Please include in your report to us the distribution of tax rates for each county so that we can see how much they vary within the properties in the county and the rates the bulk of the properties sit around.\n",
    "        - Note that this is separate from the model you will build, because if you use tax amount in your model, you would be using a future data point to predict a future data point, and that is cheating! \n",
    "            - In other words, for prediction purposes, we won't know tax amount until we know tax value."
   ]
  },
  {
   "cell_type": "markdown",
   "metadata": {},
   "source": [
    "## Specification\n",
    "\n",
    "### Audience\n",
    "- Your customer/end user is the **Zillow data science team**. \n",
    "- In your deliverables, be sure to re-state your goals, as if you were delivering this to Zillow. \n",
    "    - They have asked for something from you, and you are basically communicating in a more concise way, and very clearly, the goals as you understand them and as you have taken and acted upon them through your research."
   ]
  },
  {
   "cell_type": "markdown",
   "metadata": {},
   "source": [
    "### Deliverables\n",
    "- delivering to zillow data science team\n",
    "    - use correct technical language for that group\n",
    "- Remember that you are communicating to the **Zillow team**, not to your instructors. So, what does the team expect to receive from you?\n",
    "\n",
    "See the Pipeline guidance below for more information on expectations within these deliverables.\n",
    "\n",
    "1. A report in the form of a presentation, verbal supported by slides.\n",
    "    - The report/presentation slides should summarize your findings about the drivers of the single unit property values.\n",
    "        - This will come from the analysis you do during the exploration phase of the pipeline. \n",
    "            - In the report, you should have visualizations that support your main points.\n",
    "    - **The presentation should be no longer than 5 minutes.**\n",
    "    - should follow same guidelines of have agenda, exec summary, etc.\n",
    "\n",
    "2. A github repository containing your work.\n",
    "    - This repository should contain \n",
    "        - one clearly labeled final Jupyter Notebook that walks through the pipeline\n",
    "            - but, if you wish, you may split your work among 2 notebooks, one for exploration and one for modeling.\n",
    "        - In exploration, you should perform your analysis including: \n",
    "            - the use of at least two statistical tests \n",
    "            - visualizations documenting hypotheses \n",
    "            - takeaways. \n",
    "        - In modeling, you should \n",
    "            - establish a baseline that you attempt to beat with various algorithms and/or hyperparameters. \n",
    "            - Evaluate your model by computing the metrics and comparing.\n",
    "    - Make sure your notebook answers all the questions posed in the email from the Zillow data science team.\n",
    "    - The repository should also contain the \n",
    "        - .py files necessary to reproduce your work, \n",
    "            - acquire.py\n",
    "            - prepare.py\n",
    "            - warngle.py\n",
    "                - if you choose to combine your acuire and prepare into one\n",
    "        - your work must be reproducible by someone with their own env.py file.\n",
    "    - As with every project you do, you should have \n",
    "        - an excellent README.md file documenting your project planning with instructions on how someone could clone and reproduce your project on their own machine. \n",
    "        - Include at least \n",
    "            - your goals for the project, \n",
    "            - a data dictionary, \n",
    "            - key findings and takeaways. \n",
    "        - Your code should be well documented.\n",
    "    - No more than 2 Notebooks\n",
    "        - want to see the exploration\n",
    "            - not really all the acquire and prep you want these to be final functions that are puilled in from a .py file"
   ]
  },
  {
   "cell_type": "markdown",
   "metadata": {},
   "source": [
    "### Project Guidance\n",
    "- you will need to reference the \n",
    "    - properties_2017 table \n",
    "    - predictions_2017 table\n",
    "    - can reference more but you dont need them\n",
    "\n",
    "- For the first iteration of your model, \n",
    "    - use only\n",
    "        - square feet of the home, \n",
    "        - number of bedrooms, \n",
    "        - number of bathrooms \n",
    "    - to estimate the property's \n",
    "        - assessed value, \n",
    "        - taxvaluedollarcnt. \n",
    "    - You can expand this to other fields after you have completed an mvp (minimally viable product).\n",
    "\n",
    "- You will need to figure out which field gives you the annual tax amount for the property in order to calculate the tax rate.\n",
    "    - Using the property's assessed value (taxvaluedollarcnt) and the amount they pay each year (field name) to compute tax rate.\n",
    "\n",
    "- You will want to read and re-read the requirements given by your stakeholders to be sure you are meeting all of their needs and representing it in your data, report, and model.\n",
    "\n",
    "- You will want to do some data validation or QA (quality assurance) to be sure the data you gather is what you think it is.\n",
    "\n",
    "- You will want to make sure you are using the best fields to represent square feet of home, number of bedrooms, and number of bathrooms. \n",
    "    - \"Best\" meaning the most accurate and available information. \n",
    "    - Here you will need to do some data investigation in the database and use your domain expertise to make some judgement calls."
   ]
  },
  {
   "cell_type": "markdown",
   "metadata": {},
   "source": [
    "## Data Science Pipeline Guidance\n",
    "\n",
    "### Project Planning\n",
    "\n",
    "- **Goal:** \n",
    "    - leave this section with (at least the outline of) a plan for the project documented in your *README.md* file.\n",
    "\n",
    "- Think about the following in this stage:\n",
    "    - Brainstorming ideas and form hypotheses related to how variables might impact or relate to each other, both within independent variables and between the independent variables and dependent variable.\n",
    "    - Document any ideas for new features you may have while first looking at the existing variables and the project goals ahead of you.\n",
    "    - Think about what things in your project are nice to have, versus which things are need to have. \n",
    "        - For example, \n",
    "            - you might document that you will only worry about trying to scale your features after creating and evaluating a baseline model."
   ]
  },
  {
   "cell_type": "markdown",
   "metadata": {},
   "source": [
    "### Acquire\n",
    "- **Goal:**\n",
    "    - leave this section with a dataframe ready to prepare.\n",
    "\n",
    "- Think about the following in this stage:\n",
    "    - The ad hoc part includes summarizing your data as you read it in and begin to explore, look at the first few rows, data types, summary stats, column names, shape of the data frame, etc.\n",
    "    - Create an acquire.py file the reproducible component for gathering data from a database using SQL and reading it into a pandas DataFrame."
   ]
  },
  {
   "cell_type": "markdown",
   "metadata": {},
   "source": [
    "### Prep\n",
    "- **Goal:**\n",
    "    - leave this section with a dataset that is split into train, validate, and test ready to be analyzed. Make sure data types are appropriate and missing values have been addressed, as have any data integrity issues.\n",
    "\n",
    "- Think about the following in this stage:\n",
    "    - This might include plotting the distributions of individual variables and using those plots to identify and decide how best to handle any outliers.\n",
    "    - You might also identify unit measures to decide how best to scale any numeric data as you see necessary.\n",
    "    - Identify erroneous or invalid data that may exist in your dataframe.\n",
    "    - Add a data dictionary in your notebook at this point that defines all the fields used in your model and your analysis and answers the question, \n",
    "        - \"Why did you use the fields you used?\". e.g. \"Why did you use bedroom_field1 over bedroom_field2?\", not, \"Why did you use number of bedrooms?\"\n",
    "\n",
    "- Create a `prep.pyfile` as the reproducible component that handles missing values, fixes data integrity issues, changes data types, scales data, etc.\n",
    "\n"
   ]
  },
  {
   "cell_type": "markdown",
   "metadata": {},
   "source": [
    "### Data Exploration\n",
    "\n",
    "- **Goal:** \n",
    "    - I recommend following the exploration approach of univariate, bivariate, multivariate discussed in class. \n",
    "        - In that method, \n",
    "            - you can address each of the questions you posed in your planning and brainstorming and any others you have come up with along the way through visual exploration and statistical analysis. \n",
    "            - The findings from your analysis should provide you with answers to the specific questions your customer asked that will be used in your final report as well as information to move forward toward building a model.\n",
    "\n",
    "- Think about the following in this stage:\n",
    "\n",
    "    - Run at least 1 t-test and 1 correlation test (but as many as you need!)\n",
    "\n",
    "    - Visualize all combinations of variables in some way(s).\n",
    "\n",
    "    - What independent variables are correlated with the dependent?\n",
    "\n",
    "    - Which independent variables are correlated with other independent variables?\n",
    "\n",
    "- Make sure to summarize your takeaways and conclusions.\n",
    "    - That is, the Zillow data science team doesn't want to see just a bunch of dataframes, numbers, and charts without any explanation; you should explain in the notebook what these mean, interpret them."
   ]
  },
  {
   "cell_type": "markdown",
   "metadata": {},
   "source": [
    "### Modeling\n",
    "- **Goal:** develop a regression model that performs better than a baseline.\n",
    "\n",
    "- Think about the following in this stage:\n",
    "\n",
    "    - Extablishing and evaluating a baseline model and showing how the model you end up with performs better.\n",
    "\n",
    "    - Documenting various algorithms and/or hyperparameters you tried along with the evaluation code and results in your notebook before settling on the best algorithm.\n",
    "\n",
    "    - Evaluating your model using the standard techniques: \n",
    "        - plotting the residuals, \n",
    "        - computing the evaluation metrics (SSE, RMSE, and/or MSE), \n",
    "        - comparing to baseline, plotting y by ^y.\n",
    "\n",
    "    - For some additional options see sklearn's linear models and sklearn's page on supervised learning.\n",
    "\n",
    "    - After developing a baseline model, you could do some **feature engineering** and answer questions like:\n",
    "\n",
    "        - Which features should be included in your model?\n",
    "\n",
    "        - Are there new features you could create based on existing features that might be helpful?\n",
    "\n",
    "        - Are there any features that aren't adding much value?\n",
    "\n",
    "- Here you could also use automated feature selection techniques to determine which features to put into your model.\n",
    "\n",
    "- You should make sure that any transformation that you apply to your training dataframe are reproducible, that is, the same transformations can be applied to your test dataset."
   ]
  },
  {
   "cell_type": "code",
   "execution_count": null,
   "metadata": {},
   "outputs": [],
   "source": []
  }
 ],
 "metadata": {
  "kernelspec": {
   "display_name": "Python 3",
   "language": "python",
   "name": "python3"
  },
  "language_info": {
   "codemirror_mode": {
    "name": "ipython",
    "version": 3
   },
   "file_extension": ".py",
   "mimetype": "text/x-python",
   "name": "python",
   "nbconvert_exporter": "python",
   "pygments_lexer": "ipython3",
   "version": "3.8.5"
  }
 },
 "nbformat": 4,
 "nbformat_minor": 4
}
