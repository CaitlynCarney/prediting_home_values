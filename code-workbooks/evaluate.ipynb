{
 "cells": [
  {
   "cell_type": "code",
   "execution_count": 2,
   "metadata": {},
   "outputs": [],
   "source": [
    "import pandas as pd\n",
    "import numpy as np\n",
    "import matplotlib.pyplot as plt\n",
    "from scipy import stats\n",
    "from math import sqrt\n",
    "import seaborn as sns\n",
    "\n",
    "from sklearn.metrics import mean_squared_error, r2_score, explained_variance_score\n",
    "from statsmodels.formula.api import ols\n",
    "from sklearn.linear_model import LinearRegression\n",
    "from sklearn.feature_selection import f_regression \n",
    "from sklearn.preprocessing import MinMaxScaler\n",
    "\n",
    "import prepare\n",
    "import acquire\n",
    "import warnings\n",
    "warnings.filterwarnings('ignore')"
   ]
  },
  {
   "cell_type": "code",
   "execution_count": 3,
   "metadata": {},
   "outputs": [],
   "source": [
    "df = acquire.acquire_zillow()\n",
    "df = prepare.clean_zillow(df)\n",
    "df = prepare.focused_zillow(df)\n",
    "train, validate, test = prepare.split_focused_zillow(df)"
   ]
  },
  {
   "cell_type": "code",
   "execution_count": 4,
   "metadata": {},
   "outputs": [],
   "source": [
    "X_train = train.drop(columns = ['appraised_value'])\n",
    "y_train = train.appraised_value\n",
    "\n",
    "X_validate = validate.drop(columns=['appraised_value'])\n",
    "y_validate = validate.appraised_value\n",
    "\n",
    "X_test = test.drop(columns=['appraised_value'])\n",
    "y_test = test.appraised_value\n"
   ]
  },
  {
   "cell_type": "code",
   "execution_count": 5,
   "metadata": {},
   "outputs": [],
   "source": [
    "y_train = pd.DataFrame(y_train)\n",
    "y_validate = pd.DataFrame(y_validate)"
   ]
  },
  {
   "cell_type": "code",
   "execution_count": 6,
   "metadata": {},
   "outputs": [
    {
     "data": {
      "text/html": [
       "<div>\n",
       "<style scoped>\n",
       "    .dataframe tbody tr th:only-of-type {\n",
       "        vertical-align: middle;\n",
       "    }\n",
       "\n",
       "    .dataframe tbody tr th {\n",
       "        vertical-align: top;\n",
       "    }\n",
       "\n",
       "    .dataframe thead th {\n",
       "        text-align: right;\n",
       "    }\n",
       "</style>\n",
       "<table border=\"1\" class=\"dataframe\">\n",
       "  <thead>\n",
       "    <tr style=\"text-align: right;\">\n",
       "      <th></th>\n",
       "      <th>appraised_value</th>\n",
       "    </tr>\n",
       "  </thead>\n",
       "  <tbody>\n",
       "    <tr>\n",
       "      <th>31538</th>\n",
       "      <td>292000.0</td>\n",
       "    </tr>\n",
       "    <tr>\n",
       "      <th>5911</th>\n",
       "      <td>97093.0</td>\n",
       "    </tr>\n",
       "    <tr>\n",
       "      <th>20091</th>\n",
       "      <td>80091.0</td>\n",
       "    </tr>\n",
       "    <tr>\n",
       "      <th>36157</th>\n",
       "      <td>34746.0</td>\n",
       "    </tr>\n",
       "    <tr>\n",
       "      <th>1799</th>\n",
       "      <td>177000.0</td>\n",
       "    </tr>\n",
       "    <tr>\n",
       "      <th>...</th>\n",
       "      <td>...</td>\n",
       "    </tr>\n",
       "    <tr>\n",
       "      <th>9333</th>\n",
       "      <td>533508.0</td>\n",
       "    </tr>\n",
       "    <tr>\n",
       "      <th>33620</th>\n",
       "      <td>179483.0</td>\n",
       "    </tr>\n",
       "    <tr>\n",
       "      <th>10204</th>\n",
       "      <td>44689.0</td>\n",
       "    </tr>\n",
       "    <tr>\n",
       "      <th>37283</th>\n",
       "      <td>443829.0</td>\n",
       "    </tr>\n",
       "    <tr>\n",
       "      <th>20146</th>\n",
       "      <td>540000.0</td>\n",
       "    </tr>\n",
       "  </tbody>\n",
       "</table>\n",
       "<p>18223 rows × 1 columns</p>\n",
       "</div>"
      ],
      "text/plain": [
       "       appraised_value\n",
       "31538         292000.0\n",
       "5911           97093.0\n",
       "20091          80091.0\n",
       "36157          34746.0\n",
       "1799          177000.0\n",
       "...                ...\n",
       "9333          533508.0\n",
       "33620         179483.0\n",
       "10204          44689.0\n",
       "37283         443829.0\n",
       "20146         540000.0\n",
       "\n",
       "[18223 rows x 1 columns]"
      ]
     },
     "execution_count": 6,
     "metadata": {},
     "output_type": "execute_result"
    }
   ],
   "source": [
    "y_train"
   ]
  },
  {
   "cell_type": "code",
   "execution_count": 7,
   "metadata": {},
   "outputs": [],
   "source": [
    "home_value_baseline_median = y_train['appraised_value'].median()\n",
    "y_train['appraised_value_pred_median'] = round(home_value_baseline_median, 2)\n",
    "y_validate['appraised_value_pred_median'] = round(home_value_baseline_median, 2)"
   ]
  },
  {
   "cell_type": "code",
   "execution_count": 8,
   "metadata": {},
   "outputs": [],
   "source": [
    "home_value_baseline_mean = y_train['appraised_value'].mean()\n",
    "y_train['appraised_value_pred_mean'] = round(home_value_baseline_mean, 2)\n",
    "y_validate['appraised_value_pred_mean'] = round(home_value_baseline_mean,2)"
   ]
  },
  {
   "cell_type": "code",
   "execution_count": 9,
   "metadata": {},
   "outputs": [
    {
     "data": {
      "text/html": [
       "<div>\n",
       "<style scoped>\n",
       "    .dataframe tbody tr th:only-of-type {\n",
       "        vertical-align: middle;\n",
       "    }\n",
       "\n",
       "    .dataframe tbody tr th {\n",
       "        vertical-align: top;\n",
       "    }\n",
       "\n",
       "    .dataframe thead th {\n",
       "        text-align: right;\n",
       "    }\n",
       "</style>\n",
       "<table border=\"1\" class=\"dataframe\">\n",
       "  <thead>\n",
       "    <tr style=\"text-align: right;\">\n",
       "      <th></th>\n",
       "      <th>appraised_value</th>\n",
       "      <th>appraised_value_pred_median</th>\n",
       "      <th>appraised_value_pred_mean</th>\n",
       "    </tr>\n",
       "  </thead>\n",
       "  <tbody>\n",
       "    <tr>\n",
       "      <th>31538</th>\n",
       "      <td>292000.0</td>\n",
       "      <td>329107.0</td>\n",
       "      <td>364215.53</td>\n",
       "    </tr>\n",
       "    <tr>\n",
       "      <th>5911</th>\n",
       "      <td>97093.0</td>\n",
       "      <td>329107.0</td>\n",
       "      <td>364215.53</td>\n",
       "    </tr>\n",
       "    <tr>\n",
       "      <th>20091</th>\n",
       "      <td>80091.0</td>\n",
       "      <td>329107.0</td>\n",
       "      <td>364215.53</td>\n",
       "    </tr>\n",
       "    <tr>\n",
       "      <th>36157</th>\n",
       "      <td>34746.0</td>\n",
       "      <td>329107.0</td>\n",
       "      <td>364215.53</td>\n",
       "    </tr>\n",
       "    <tr>\n",
       "      <th>1799</th>\n",
       "      <td>177000.0</td>\n",
       "      <td>329107.0</td>\n",
       "      <td>364215.53</td>\n",
       "    </tr>\n",
       "    <tr>\n",
       "      <th>...</th>\n",
       "      <td>...</td>\n",
       "      <td>...</td>\n",
       "      <td>...</td>\n",
       "    </tr>\n",
       "    <tr>\n",
       "      <th>9333</th>\n",
       "      <td>533508.0</td>\n",
       "      <td>329107.0</td>\n",
       "      <td>364215.53</td>\n",
       "    </tr>\n",
       "    <tr>\n",
       "      <th>33620</th>\n",
       "      <td>179483.0</td>\n",
       "      <td>329107.0</td>\n",
       "      <td>364215.53</td>\n",
       "    </tr>\n",
       "    <tr>\n",
       "      <th>10204</th>\n",
       "      <td>44689.0</td>\n",
       "      <td>329107.0</td>\n",
       "      <td>364215.53</td>\n",
       "    </tr>\n",
       "    <tr>\n",
       "      <th>37283</th>\n",
       "      <td>443829.0</td>\n",
       "      <td>329107.0</td>\n",
       "      <td>364215.53</td>\n",
       "    </tr>\n",
       "    <tr>\n",
       "      <th>20146</th>\n",
       "      <td>540000.0</td>\n",
       "      <td>329107.0</td>\n",
       "      <td>364215.53</td>\n",
       "    </tr>\n",
       "  </tbody>\n",
       "</table>\n",
       "<p>18223 rows × 3 columns</p>\n",
       "</div>"
      ],
      "text/plain": [
       "       appraised_value  appraised_value_pred_median  appraised_value_pred_mean\n",
       "31538         292000.0                     329107.0                  364215.53\n",
       "5911           97093.0                     329107.0                  364215.53\n",
       "20091          80091.0                     329107.0                  364215.53\n",
       "36157          34746.0                     329107.0                  364215.53\n",
       "1799          177000.0                     329107.0                  364215.53\n",
       "...                ...                          ...                        ...\n",
       "9333          533508.0                     329107.0                  364215.53\n",
       "33620         179483.0                     329107.0                  364215.53\n",
       "10204          44689.0                     329107.0                  364215.53\n",
       "37283         443829.0                     329107.0                  364215.53\n",
       "20146         540000.0                     329107.0                  364215.53\n",
       "\n",
       "[18223 rows x 3 columns]"
      ]
     },
     "execution_count": 9,
     "metadata": {},
     "output_type": "execute_result"
    }
   ],
   "source": [
    "y_train"
   ]
  },
  {
   "cell_type": "markdown",
   "metadata": {},
   "source": [
    "Takeaways:\n",
    "- Baseline median is the way to go\n",
    "    - it is less"
   ]
  },
  {
   "cell_type": "code",
   "execution_count": 10,
   "metadata": {},
   "outputs": [],
   "source": [
    "# generate parameters, i.e. create model\n",
    "ols_model = ols('appraised_value ~ bedrooms', data=train).fit()\n",
    "    #finding the model\n",
    "# compute predictions and add to original dataframe\n",
    "train['yhat'] = round(ols_model.predict(train), 2)"
   ]
  },
  {
   "cell_type": "code",
   "execution_count": 11,
   "metadata": {},
   "outputs": [
    {
     "data": {
      "text/html": [
       "<div>\n",
       "<style scoped>\n",
       "    .dataframe tbody tr th:only-of-type {\n",
       "        vertical-align: middle;\n",
       "    }\n",
       "\n",
       "    .dataframe tbody tr th {\n",
       "        vertical-align: top;\n",
       "    }\n",
       "\n",
       "    .dataframe thead th {\n",
       "        text-align: right;\n",
       "    }\n",
       "</style>\n",
       "<table border=\"1\" class=\"dataframe\">\n",
       "  <thead>\n",
       "    <tr style=\"text-align: right;\">\n",
       "      <th></th>\n",
       "      <th>square_feet</th>\n",
       "      <th>bedrooms</th>\n",
       "      <th>bathrooms</th>\n",
       "      <th>appraised_value</th>\n",
       "      <th>yhat</th>\n",
       "      <th>baseline</th>\n",
       "      <th>residual</th>\n",
       "      <th>baseline_residual</th>\n",
       "    </tr>\n",
       "  </thead>\n",
       "  <tbody>\n",
       "    <tr>\n",
       "      <th>31538</th>\n",
       "      <td>1050.0</td>\n",
       "      <td>2.0</td>\n",
       "      <td>1.0</td>\n",
       "      <td>292000.0</td>\n",
       "      <td>323737.08</td>\n",
       "      <td>364215.525764</td>\n",
       "      <td>-31737.08</td>\n",
       "      <td>-72215.525764</td>\n",
       "    </tr>\n",
       "    <tr>\n",
       "      <th>5911</th>\n",
       "      <td>715.0</td>\n",
       "      <td>1.0</td>\n",
       "      <td>1.0</td>\n",
       "      <td>97093.0</td>\n",
       "      <td>274750.59</td>\n",
       "      <td>364215.525764</td>\n",
       "      <td>-177657.59</td>\n",
       "      <td>-267122.525764</td>\n",
       "    </tr>\n",
       "    <tr>\n",
       "      <th>20091</th>\n",
       "      <td>2097.0</td>\n",
       "      <td>2.0</td>\n",
       "      <td>2.0</td>\n",
       "      <td>80091.0</td>\n",
       "      <td>323737.08</td>\n",
       "      <td>364215.525764</td>\n",
       "      <td>-243646.08</td>\n",
       "      <td>-284124.525764</td>\n",
       "    </tr>\n",
       "    <tr>\n",
       "      <th>36157</th>\n",
       "      <td>1216.0</td>\n",
       "      <td>3.0</td>\n",
       "      <td>1.0</td>\n",
       "      <td>34746.0</td>\n",
       "      <td>372723.58</td>\n",
       "      <td>364215.525764</td>\n",
       "      <td>-337977.58</td>\n",
       "      <td>-329469.525764</td>\n",
       "    </tr>\n",
       "    <tr>\n",
       "      <th>1799</th>\n",
       "      <td>1523.0</td>\n",
       "      <td>3.0</td>\n",
       "      <td>3.0</td>\n",
       "      <td>177000.0</td>\n",
       "      <td>372723.58</td>\n",
       "      <td>364215.525764</td>\n",
       "      <td>-195723.58</td>\n",
       "      <td>-187215.525764</td>\n",
       "    </tr>\n",
       "  </tbody>\n",
       "</table>\n",
       "</div>"
      ],
      "text/plain": [
       "       square_feet  bedrooms  bathrooms  appraised_value       yhat  \\\n",
       "31538       1050.0       2.0        1.0         292000.0  323737.08   \n",
       "5911         715.0       1.0        1.0          97093.0  274750.59   \n",
       "20091       2097.0       2.0        2.0          80091.0  323737.08   \n",
       "36157       1216.0       3.0        1.0          34746.0  372723.58   \n",
       "1799        1523.0       3.0        3.0         177000.0  372723.58   \n",
       "\n",
       "            baseline   residual  baseline_residual  \n",
       "31538  364215.525764  -31737.08      -72215.525764  \n",
       "5911   364215.525764 -177657.59     -267122.525764  \n",
       "20091  364215.525764 -243646.08     -284124.525764  \n",
       "36157  364215.525764 -337977.58     -329469.525764  \n",
       "1799   364215.525764 -195723.58     -187215.525764  "
      ]
     },
     "execution_count": 11,
     "metadata": {},
     "output_type": "execute_result"
    }
   ],
   "source": [
    "#baseline is mean of dependent variable\n",
    "train['baseline'] = train.appraised_value.mean()\n",
    "train['residual'] = train.appraised_value - train.yhat\n",
    "train['baseline_residual'] = train.appraised_value - train.baseline\n",
    "train.head()"
   ]
  },
  {
   "cell_type": "markdown",
   "metadata": {},
   "source": [
    "# Sum of Square Erros (SSE)"
   ]
  },
  {
   "cell_type": "code",
   "execution_count": 12,
   "metadata": {},
   "outputs": [
    {
     "name": "stdout",
     "output_type": "stream",
     "text": [
      "SSE =  911614726222345.5\n",
      "SSE Baseline =  941263447006771.6\n"
     ]
    }
   ],
   "source": [
    "# create 2 new columns onto df\n",
    "train['residual_sqr'] = train.residual ** 2\n",
    "train['baseline_residual_sqr'] =  train.baseline_residual ** 2\n",
    "\n",
    "# add all of them\n",
    "SSE = train['residual_sqr'].sum()\n",
    "SSE_baseline =  train['baseline_residual_sqr'].sum()\n",
    "\n",
    "print(\"SSE = \", round(SSE,3))\n",
    "print(\"SSE Baseline = \", round(SSE_baseline, 3))"
   ]
  },
  {
   "cell_type": "markdown",
   "metadata": {},
   "source": [
    "# Mean Squared Error (MSE)"
   ]
  },
  {
   "cell_type": "code",
   "execution_count": 13,
   "metadata": {},
   "outputs": [
    {
     "name": "stdout",
     "output_type": "stream",
     "text": [
      "MSE =  28013481845.687\n",
      "MSE baseline =  28924572767.709\n"
     ]
    }
   ],
   "source": [
    "MSE = SSE / len(df)\n",
    "MSE_baseline = SSE_baseline / len(df)\n",
    "\n",
    "print(\"MSE = \", round(MSE,3))\n",
    "print(\"MSE baseline = \", round(MSE_baseline,3))"
   ]
  },
  {
   "cell_type": "markdown",
   "metadata": {},
   "source": [
    "# Root Mean Squared Error (RMSE)"
   ]
  },
  {
   "cell_type": "code",
   "execution_count": 14,
   "metadata": {},
   "outputs": [
    {
     "name": "stdout",
     "output_type": "stream",
     "text": [
      "RMSE =  167372.285\n",
      "RMSE baseline =  170072.257\n"
     ]
    }
   ],
   "source": [
    "RMSE = sqrt(MSE)\n",
    "RMSE_baseline = sqrt(MSE_baseline)\n",
    "\n",
    "print(\"RMSE = \", round(RMSE,3))\n",
    "print(\"RMSE baseline = \", round(RMSE_baseline,3))"
   ]
  },
  {
   "cell_type": "code",
   "execution_count": 15,
   "metadata": {},
   "outputs": [
    {
     "name": "stdout",
     "output_type": "stream",
     "text": [
      "SSE Baseline =  941263447006771.6\n",
      "MSE baseline =  28924572767.709\n",
      "RMSE baseline =  170072.257\n"
     ]
    }
   ],
   "source": [
    "print(\"SSE Baseline = \", round(SSE_baseline, 3))\n",
    "print(\"MSE baseline = \", round(MSE_baseline,3))\n",
    "print(\"RMSE baseline = \", round(RMSE_baseline,3))"
   ]
  },
  {
   "cell_type": "markdown",
   "metadata": {},
   "source": [
    "## will continue the RMSE "
   ]
  },
  {
   "cell_type": "code",
   "execution_count": 16,
   "metadata": {},
   "outputs": [
    {
     "data": {
      "image/png": "[encoded data removed]",
      "text/plain": [
       "<Figure size 432x288 with 1 Axes>"
      ]
     },
     "metadata": {},
     "output_type": "display_data"
    }
   ],
   "source": [
    "# plot to visualize actual vs predicted. \n",
    "sns.set(style=\"darkgrid\")\n",
    "plt.hist(y_train.appraised_value, color='teal', alpha=.5, label=\"Actual Home Value\")\n",
    "plt.vlines(y_train.appraised_value_pred_mean, 0, 5000, color='yellow', alpha=.3, label=\"Predicted Mean Home Value\")\n",
    "plt.vlines(y_train.appraised_value_pred_median, 0, 5000, color='lawngreen', alpha=.2, label=\"Predicted Median Home Value\")\n",
    "plt.xlabel(\"Home Value\")\n",
    "plt.ylabel(\"Number Homes\")\n",
    "plt.legend()\n",
    "plt.show()"
   ]
  },
  {
   "cell_type": "code",
   "execution_count": 60,
   "metadata": {},
   "outputs": [],
   "source": [
    "import evaluate"
   ]
  },
  {
   "cell_type": "code",
   "execution_count": 61,
   "metadata": {},
   "outputs": [
    {
     "name": "stdout",
     "output_type": "stream",
     "text": [
      "SSE =  911614726222345.5\n",
      "SSE Baseline =  941263447006771.6\n",
      "------------------------------------------\n",
      "MSE =  28013481845.687\n",
      "MSE baseline =  28924572767.709\n",
      "------------------------------------------\n",
      "RMSE =  167372.285\n",
      "RMSE baseline =  170072.257\n",
      "------------------------------------------\n"
     ]
    },
    {
     "data": {
      "image/png": "[encoded data removed]",
      "text/plain": [
       "<Figure size 432x288 with 1 Axes>"
      ]
     },
     "metadata": {},
     "output_type": "display_data"
    }
   ],
   "source": [
    "def SSE_MSE_RMSE_info():\n",
    "    'Finds the SSE, MSE, and RMSE from add_to_train'\n",
    "    df = acquire.acquire_zillow()\n",
    "    df = prepare.clean_zillow(df)\n",
    "    df = prepare.focused_zillow(df)\n",
    "    train, validate, test = prepare.split_focused_zillow(df)\n",
    "    # pull from add to trian\n",
    "    train = evaluate.add_to_train()\n",
    "    # set up for SSE\n",
    "    train['residual_sqr'] = train.residual ** 2\n",
    "    train['baseline_residual_sqr'] =  train.baseline_residual ** 2\n",
    "    SSE = train['residual_sqr'].sum()\n",
    "    SSE_baseline =  train['baseline_residual_sqr'].sum()\n",
    "    print(\"SSE = \", round(SSE,3))\n",
    "    print(\"SSE Baseline = \", round(SSE_baseline, 3))\n",
    "    print('------------------------------------------')\n",
    "    # set up for MSE\n",
    "    MSE = SSE / len(df)\n",
    "    MSE_baseline = SSE_baseline / len(df)\n",
    "    print(\"MSE = \", round(MSE,3))\n",
    "    print(\"MSE baseline = \", round(MSE_baseline,3))\n",
    "    print('------------------------------------------')\n",
    "    # set up for RMSE\n",
    "    RMSE = sqrt(MSE)\n",
    "    RMSE_baseline = sqrt(MSE_baseline)\n",
    "    print(\"RMSE = \", round(RMSE,3))\n",
    "    print(\"RMSE baseline = \", round(RMSE_baseline,3))\n",
    "    print('------------------------------------------')\n",
    "    # plot to visualize actual vs predicted. \n",
    "    sns.set(style=\"darkgrid\")\n",
    "    plt.hist(y_train.appraised_value, color='teal', alpha=.5, label=\"Actual Home Value\")\n",
    "    plt.vlines(y_train.appraised_value_pred_mean, 0, 3500, color='yellow', alpha=.3, label=\"Predicted Mean Home Value\")\n",
    "    plt.vlines(y_train.appraised_value_pred_median, 0, 3500, color='lawngreen', alpha=.2, label=\"Predicted Median Home Value\")\n",
    "    plt.xlabel(\"Home Value\")\n",
    "    plt.ylabel(\"Number Homes\")\n",
    "    plt.legend()\n",
    "    plt.show()\n",
    "    \n",
    "SSE_MSE_RMSE_info()"
   ]
  },
  {
   "cell_type": "code",
   "execution_count": null,
   "metadata": {},
   "outputs": [],
   "source": []
  }
 ],
 "metadata": {
  "kernelspec": {
   "display_name": "Python 3",
   "language": "python",
   "name": "python3"
  },
  "language_info": {
   "codemirror_mode": {
    "name": "ipython",
    "version": 3
   },
   "file_extension": ".py",
   "mimetype": "text/x-python",
   "name": "python",
   "nbconvert_exporter": "python",
   "pygments_lexer": "ipython3",
   "version": "3.8.5"
  }
 },
 "nbformat": 4,
 "nbformat_minor": 4
}
