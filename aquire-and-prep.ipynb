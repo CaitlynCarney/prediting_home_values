{
 "cells": [
  {
   "cell_type": "markdown",
   "metadata": {},
   "source": [
    "# Acquire"
   ]
  },
  {
   "cell_type": "code",
   "execution_count": 1,
   "metadata": {},
   "outputs": [],
   "source": [
    "import warnings\n",
    "warnings.filterwarnings(\"ignore\")\n",
    "\n",
    "import pandas as pd\n",
    "import matplotlib.pyplot as plt\n",
    "import seaborn as sns\n",
    "import numpy as np\n",
    "\n",
    "from scipy import stats\n",
    "from math import sqrt\n",
    "from statsmodels.formula.api import ols\n",
    "\n",
    "from sklearn.metrics import mean_squared_error, r2_score, explained_variance_score, mean_absolute_error\n",
    "from sklearn.model_selection import train_test_split\n",
    "import sklearn.preprocessing\n",
    "from sklearn.linear_model import LinearRegression\n",
    "from sklearn.feature_selection import f_regression \n",
    "\n",
    "from env import host, user, password\n",
    "import acquire\n",
    "import prepare"
   ]
  },
  {
   "cell_type": "markdown",
   "metadata": {},
   "source": [
    "sql_query = '''select *\n",
    "    from  properties_2017\n",
    "    join predictions_2017 using(parcelid)\n",
    "    where transactiondate between \"2017-05-01\" and \"2017-08-31\"\n",
    "        and propertylandusetypeid between 260 and 266\n",
    "            or propertylandusetypeid between 273 and 279\n",
    "            and not propertylandusetypeid = 274\n",
    "        and unitcnt = 1;\n",
    "    '''\n",
    "connection = f'mysql+pymysql://{user}:{password}@{host}/zillow'\n",
    "df = pd.read_sql(sql_query, connection)"
   ]
  },
  {
   "cell_type": "code",
   "execution_count": 2,
   "metadata": {},
   "outputs": [
    {
     "data": {
      "text/html": [
       "<div>\n",
       "<style scoped>\n",
       "    .dataframe tbody tr th:only-of-type {\n",
       "        vertical-align: middle;\n",
       "    }\n",
       "\n",
       "    .dataframe tbody tr th {\n",
       "        vertical-align: top;\n",
       "    }\n",
       "\n",
       "    .dataframe thead th {\n",
       "        text-align: right;\n",
       "    }\n",
       "</style>\n",
       "<table border=\"1\" class=\"dataframe\">\n",
       "  <thead>\n",
       "    <tr style=\"text-align: right;\">\n",
       "      <th></th>\n",
       "      <th>parcelid</th>\n",
       "      <th>id</th>\n",
       "      <th>airconditioningtypeid</th>\n",
       "      <th>architecturalstyletypeid</th>\n",
       "      <th>basementsqft</th>\n",
       "      <th>bathroomcnt</th>\n",
       "      <th>bedroomcnt</th>\n",
       "      <th>buildingclasstypeid</th>\n",
       "      <th>buildingqualitytypeid</th>\n",
       "      <th>calculatedbathnbr</th>\n",
       "      <th>...</th>\n",
       "      <th>taxvaluedollarcnt</th>\n",
       "      <th>assessmentyear</th>\n",
       "      <th>landtaxvaluedollarcnt</th>\n",
       "      <th>taxamount</th>\n",
       "      <th>taxdelinquencyflag</th>\n",
       "      <th>taxdelinquencyyear</th>\n",
       "      <th>censustractandblock</th>\n",
       "      <th>id</th>\n",
       "      <th>logerror</th>\n",
       "      <th>transactiondate</th>\n",
       "    </tr>\n",
       "  </thead>\n",
       "  <tbody>\n",
       "    <tr>\n",
       "      <th>0</th>\n",
       "      <td>14634203</td>\n",
       "      <td>2026522</td>\n",
       "      <td>1.0</td>\n",
       "      <td>NaN</td>\n",
       "      <td>NaN</td>\n",
       "      <td>2.0</td>\n",
       "      <td>3.0</td>\n",
       "      <td>None</td>\n",
       "      <td>NaN</td>\n",
       "      <td>2.0</td>\n",
       "      <td>...</td>\n",
       "      <td>289445.0</td>\n",
       "      <td>2016.0</td>\n",
       "      <td>213516.0</td>\n",
       "      <td>3490.16</td>\n",
       "      <td>None</td>\n",
       "      <td>NaN</td>\n",
       "      <td>6.059001e+13</td>\n",
       "      <td>625</td>\n",
       "      <td>-0.061973</td>\n",
       "      <td>2017-08-04</td>\n",
       "    </tr>\n",
       "    <tr>\n",
       "      <th>1</th>\n",
       "      <td>11721753</td>\n",
       "      <td>616260</td>\n",
       "      <td>NaN</td>\n",
       "      <td>NaN</td>\n",
       "      <td>NaN</td>\n",
       "      <td>2.0</td>\n",
       "      <td>3.0</td>\n",
       "      <td>None</td>\n",
       "      <td>6.0</td>\n",
       "      <td>2.0</td>\n",
       "      <td>...</td>\n",
       "      <td>205123.0</td>\n",
       "      <td>2016.0</td>\n",
       "      <td>163175.0</td>\n",
       "      <td>2627.48</td>\n",
       "      <td>None</td>\n",
       "      <td>NaN</td>\n",
       "      <td>6.037220e+13</td>\n",
       "      <td>1018</td>\n",
       "      <td>0.017785</td>\n",
       "      <td>2017-07-21</td>\n",
       "    </tr>\n",
       "    <tr>\n",
       "      <th>2</th>\n",
       "      <td>11289917</td>\n",
       "      <td>2061546</td>\n",
       "      <td>1.0</td>\n",
       "      <td>NaN</td>\n",
       "      <td>NaN</td>\n",
       "      <td>2.0</td>\n",
       "      <td>3.0</td>\n",
       "      <td>None</td>\n",
       "      <td>6.0</td>\n",
       "      <td>2.0</td>\n",
       "      <td>...</td>\n",
       "      <td>136104.0</td>\n",
       "      <td>2016.0</td>\n",
       "      <td>27214.0</td>\n",
       "      <td>2319.90</td>\n",
       "      <td>Y</td>\n",
       "      <td>15.0</td>\n",
       "      <td>6.037901e+13</td>\n",
       "      <td>1248</td>\n",
       "      <td>-0.362001</td>\n",
       "      <td>2017-06-23</td>\n",
       "    </tr>\n",
       "    <tr>\n",
       "      <th>3</th>\n",
       "      <td>11637029</td>\n",
       "      <td>2554497</td>\n",
       "      <td>1.0</td>\n",
       "      <td>NaN</td>\n",
       "      <td>NaN</td>\n",
       "      <td>2.0</td>\n",
       "      <td>3.0</td>\n",
       "      <td>None</td>\n",
       "      <td>9.0</td>\n",
       "      <td>2.0</td>\n",
       "      <td>...</td>\n",
       "      <td>810694.0</td>\n",
       "      <td>2016.0</td>\n",
       "      <td>554156.0</td>\n",
       "      <td>9407.01</td>\n",
       "      <td>Y</td>\n",
       "      <td>13.0</td>\n",
       "      <td>6.037701e+13</td>\n",
       "      <td>1734</td>\n",
       "      <td>-0.093399</td>\n",
       "      <td>2017-07-28</td>\n",
       "    </tr>\n",
       "    <tr>\n",
       "      <th>4</th>\n",
       "      <td>11705026</td>\n",
       "      <td>1834372</td>\n",
       "      <td>NaN</td>\n",
       "      <td>NaN</td>\n",
       "      <td>NaN</td>\n",
       "      <td>1.0</td>\n",
       "      <td>2.0</td>\n",
       "      <td>None</td>\n",
       "      <td>6.0</td>\n",
       "      <td>1.0</td>\n",
       "      <td>...</td>\n",
       "      <td>35606.0</td>\n",
       "      <td>2016.0</td>\n",
       "      <td>23624.0</td>\n",
       "      <td>543.69</td>\n",
       "      <td>None</td>\n",
       "      <td>NaN</td>\n",
       "      <td>6.037232e+13</td>\n",
       "      <td>1772</td>\n",
       "      <td>-0.146056</td>\n",
       "      <td>2017-06-30</td>\n",
       "    </tr>\n",
       "  </tbody>\n",
       "</table>\n",
       "<p>5 rows × 62 columns</p>\n",
       "</div>"
      ],
      "text/plain": [
       "   parcelid       id  airconditioningtypeid  architecturalstyletypeid  \\\n",
       "0  14634203  2026522                    1.0                       NaN   \n",
       "1  11721753   616260                    NaN                       NaN   \n",
       "2  11289917  2061546                    1.0                       NaN   \n",
       "3  11637029  2554497                    1.0                       NaN   \n",
       "4  11705026  1834372                    NaN                       NaN   \n",
       "\n",
       "   basementsqft  bathroomcnt  bedroomcnt buildingclasstypeid  \\\n",
       "0           NaN          2.0         3.0                None   \n",
       "1           NaN          2.0         3.0                None   \n",
       "2           NaN          2.0         3.0                None   \n",
       "3           NaN          2.0         3.0                None   \n",
       "4           NaN          1.0         2.0                None   \n",
       "\n",
       "   buildingqualitytypeid  calculatedbathnbr  ...  taxvaluedollarcnt  \\\n",
       "0                    NaN                2.0  ...           289445.0   \n",
       "1                    6.0                2.0  ...           205123.0   \n",
       "2                    6.0                2.0  ...           136104.0   \n",
       "3                    9.0                2.0  ...           810694.0   \n",
       "4                    6.0                1.0  ...            35606.0   \n",
       "\n",
       "   assessmentyear  landtaxvaluedollarcnt  taxamount  taxdelinquencyflag  \\\n",
       "0          2016.0               213516.0    3490.16                None   \n",
       "1          2016.0               163175.0    2627.48                None   \n",
       "2          2016.0                27214.0    2319.90                   Y   \n",
       "3          2016.0               554156.0    9407.01                   Y   \n",
       "4          2016.0                23624.0     543.69                None   \n",
       "\n",
       "   taxdelinquencyyear  censustractandblock    id  logerror  transactiondate  \n",
       "0                 NaN         6.059001e+13   625 -0.061973       2017-08-04  \n",
       "1                 NaN         6.037220e+13  1018  0.017785       2017-07-21  \n",
       "2                15.0         6.037901e+13  1248 -0.362001       2017-06-23  \n",
       "3                13.0         6.037701e+13  1734 -0.093399       2017-07-28  \n",
       "4                 NaN         6.037232e+13  1772 -0.146056       2017-06-30  \n",
       "\n",
       "[5 rows x 62 columns]"
      ]
     },
     "execution_count": 2,
     "metadata": {},
     "output_type": "execute_result"
    }
   ],
   "source": [
    "df = acquire.acquire_zillow()\n",
    "df.head()"
   ]
  },
  {
   "cell_type": "markdown",
   "metadata": {},
   "source": [
    "# Prep"
   ]
  },
  {
   "cell_type": "markdown",
   "metadata": {},
   "source": [
    "#### Drop all columns that have less that 35,000 non null values"
   ]
  },
  {
   "cell_type": "code",
   "execution_count": 3,
   "metadata": {},
   "outputs": [],
   "source": [
    "df = df.dropna(axis=1,thresh=35000)"
   ]
  },
  {
   "cell_type": "markdown",
   "metadata": {},
   "source": [
    "#### Add new features"
   ]
  },
  {
   "cell_type": "code",
   "execution_count": 4,
   "metadata": {},
   "outputs": [],
   "source": [
    "df['house_age'] = 2021 - df.yearbuilt"
   ]
  },
  {
   "cell_type": "code",
   "execution_count": 5,
   "metadata": {},
   "outputs": [],
   "source": [
    "df['tax_rate'] = df.taxvaluedollarcnt / df.taxamount"
   ]
  },
  {
   "cell_type": "code",
   "execution_count": 6,
   "metadata": {},
   "outputs": [
    {
     "data": {
      "text/html": [
       "<div>\n",
       "<style scoped>\n",
       "    .dataframe tbody tr th:only-of-type {\n",
       "        vertical-align: middle;\n",
       "    }\n",
       "\n",
       "    .dataframe tbody tr th {\n",
       "        vertical-align: top;\n",
       "    }\n",
       "\n",
       "    .dataframe thead th {\n",
       "        text-align: right;\n",
       "    }\n",
       "</style>\n",
       "<table border=\"1\" class=\"dataframe\">\n",
       "  <thead>\n",
       "    <tr style=\"text-align: right;\">\n",
       "      <th></th>\n",
       "      <th>parcelid</th>\n",
       "      <th>id</th>\n",
       "      <th>bathroomcnt</th>\n",
       "      <th>bedroomcnt</th>\n",
       "      <th>calculatedbathnbr</th>\n",
       "      <th>calculatedfinishedsquarefeet</th>\n",
       "      <th>finishedsquarefeet12</th>\n",
       "      <th>fips</th>\n",
       "      <th>fullbathcnt</th>\n",
       "      <th>latitude</th>\n",
       "      <th>...</th>\n",
       "      <th>taxvaluedollarcnt</th>\n",
       "      <th>assessmentyear</th>\n",
       "      <th>landtaxvaluedollarcnt</th>\n",
       "      <th>taxamount</th>\n",
       "      <th>censustractandblock</th>\n",
       "      <th>id</th>\n",
       "      <th>logerror</th>\n",
       "      <th>transactiondate</th>\n",
       "      <th>house_age</th>\n",
       "      <th>tax_rate</th>\n",
       "    </tr>\n",
       "  </thead>\n",
       "  <tbody>\n",
       "    <tr>\n",
       "      <th>0</th>\n",
       "      <td>14634203</td>\n",
       "      <td>2026522</td>\n",
       "      <td>2.0</td>\n",
       "      <td>3.0</td>\n",
       "      <td>2.0</td>\n",
       "      <td>1125.0</td>\n",
       "      <td>1125.0</td>\n",
       "      <td>6059.0</td>\n",
       "      <td>2.0</td>\n",
       "      <td>33922098.0</td>\n",
       "      <td>...</td>\n",
       "      <td>289445.0</td>\n",
       "      <td>2016.0</td>\n",
       "      <td>213516.0</td>\n",
       "      <td>3490.16</td>\n",
       "      <td>6.059001e+13</td>\n",
       "      <td>625</td>\n",
       "      <td>-0.061973</td>\n",
       "      <td>2017-08-04</td>\n",
       "      <td>47.0</td>\n",
       "      <td>82.931728</td>\n",
       "    </tr>\n",
       "    <tr>\n",
       "      <th>1</th>\n",
       "      <td>11721753</td>\n",
       "      <td>616260</td>\n",
       "      <td>2.0</td>\n",
       "      <td>3.0</td>\n",
       "      <td>2.0</td>\n",
       "      <td>1316.0</td>\n",
       "      <td>1316.0</td>\n",
       "      <td>6037.0</td>\n",
       "      <td>2.0</td>\n",
       "      <td>34033180.0</td>\n",
       "      <td>...</td>\n",
       "      <td>205123.0</td>\n",
       "      <td>2016.0</td>\n",
       "      <td>163175.0</td>\n",
       "      <td>2627.48</td>\n",
       "      <td>6.037220e+13</td>\n",
       "      <td>1018</td>\n",
       "      <td>0.017785</td>\n",
       "      <td>2017-07-21</td>\n",
       "      <td>98.0</td>\n",
       "      <td>78.068339</td>\n",
       "    </tr>\n",
       "    <tr>\n",
       "      <th>2</th>\n",
       "      <td>11289917</td>\n",
       "      <td>2061546</td>\n",
       "      <td>2.0</td>\n",
       "      <td>3.0</td>\n",
       "      <td>2.0</td>\n",
       "      <td>1458.0</td>\n",
       "      <td>1458.0</td>\n",
       "      <td>6037.0</td>\n",
       "      <td>2.0</td>\n",
       "      <td>34686163.0</td>\n",
       "      <td>...</td>\n",
       "      <td>136104.0</td>\n",
       "      <td>2016.0</td>\n",
       "      <td>27214.0</td>\n",
       "      <td>2319.90</td>\n",
       "      <td>6.037901e+13</td>\n",
       "      <td>1248</td>\n",
       "      <td>-0.362001</td>\n",
       "      <td>2017-06-23</td>\n",
       "      <td>51.0</td>\n",
       "      <td>58.668046</td>\n",
       "    </tr>\n",
       "    <tr>\n",
       "      <th>3</th>\n",
       "      <td>11637029</td>\n",
       "      <td>2554497</td>\n",
       "      <td>2.0</td>\n",
       "      <td>3.0</td>\n",
       "      <td>2.0</td>\n",
       "      <td>1766.0</td>\n",
       "      <td>1766.0</td>\n",
       "      <td>6037.0</td>\n",
       "      <td>2.0</td>\n",
       "      <td>34073222.0</td>\n",
       "      <td>...</td>\n",
       "      <td>810694.0</td>\n",
       "      <td>2016.0</td>\n",
       "      <td>554156.0</td>\n",
       "      <td>9407.01</td>\n",
       "      <td>6.037701e+13</td>\n",
       "      <td>1734</td>\n",
       "      <td>-0.093399</td>\n",
       "      <td>2017-07-28</td>\n",
       "      <td>41.0</td>\n",
       "      <td>86.179774</td>\n",
       "    </tr>\n",
       "    <tr>\n",
       "      <th>4</th>\n",
       "      <td>11705026</td>\n",
       "      <td>1834372</td>\n",
       "      <td>1.0</td>\n",
       "      <td>2.0</td>\n",
       "      <td>1.0</td>\n",
       "      <td>1421.0</td>\n",
       "      <td>1421.0</td>\n",
       "      <td>6037.0</td>\n",
       "      <td>1.0</td>\n",
       "      <td>33999877.0</td>\n",
       "      <td>...</td>\n",
       "      <td>35606.0</td>\n",
       "      <td>2016.0</td>\n",
       "      <td>23624.0</td>\n",
       "      <td>543.69</td>\n",
       "      <td>6.037232e+13</td>\n",
       "      <td>1772</td>\n",
       "      <td>-0.146056</td>\n",
       "      <td>2017-06-30</td>\n",
       "      <td>110.0</td>\n",
       "      <td>65.489525</td>\n",
       "    </tr>\n",
       "  </tbody>\n",
       "</table>\n",
       "<p>5 rows × 30 columns</p>\n",
       "</div>"
      ],
      "text/plain": [
       "   parcelid       id  bathroomcnt  bedroomcnt  calculatedbathnbr  \\\n",
       "0  14634203  2026522          2.0         3.0                2.0   \n",
       "1  11721753   616260          2.0         3.0                2.0   \n",
       "2  11289917  2061546          2.0         3.0                2.0   \n",
       "3  11637029  2554497          2.0         3.0                2.0   \n",
       "4  11705026  1834372          1.0         2.0                1.0   \n",
       "\n",
       "   calculatedfinishedsquarefeet  finishedsquarefeet12    fips  fullbathcnt  \\\n",
       "0                        1125.0                1125.0  6059.0          2.0   \n",
       "1                        1316.0                1316.0  6037.0          2.0   \n",
       "2                        1458.0                1458.0  6037.0          2.0   \n",
       "3                        1766.0                1766.0  6037.0          2.0   \n",
       "4                        1421.0                1421.0  6037.0          1.0   \n",
       "\n",
       "     latitude  ...  taxvaluedollarcnt assessmentyear  landtaxvaluedollarcnt  \\\n",
       "0  33922098.0  ...           289445.0         2016.0               213516.0   \n",
       "1  34033180.0  ...           205123.0         2016.0               163175.0   \n",
       "2  34686163.0  ...           136104.0         2016.0                27214.0   \n",
       "3  34073222.0  ...           810694.0         2016.0               554156.0   \n",
       "4  33999877.0  ...            35606.0         2016.0                23624.0   \n",
       "\n",
       "   taxamount  censustractandblock    id  logerror  transactiondate  house_age  \\\n",
       "0    3490.16         6.059001e+13   625 -0.061973       2017-08-04       47.0   \n",
       "1    2627.48         6.037220e+13  1018  0.017785       2017-07-21       98.0   \n",
       "2    2319.90         6.037901e+13  1248 -0.362001       2017-06-23       51.0   \n",
       "3    9407.01         6.037701e+13  1734 -0.093399       2017-07-28       41.0   \n",
       "4     543.69         6.037232e+13  1772 -0.146056       2017-06-30      110.0   \n",
       "\n",
       "    tax_rate  \n",
       "0  82.931728  \n",
       "1  78.068339  \n",
       "2  58.668046  \n",
       "3  86.179774  \n",
       "4  65.489525  \n",
       "\n",
       "[5 rows x 30 columns]"
      ]
     },
     "execution_count": 6,
     "metadata": {},
     "output_type": "execute_result"
    }
   ],
   "source": [
    "df.head()"
   ]
  },
  {
   "cell_type": "markdown",
   "metadata": {},
   "source": [
    "#### Delete columns:\n",
    "- `calculatedbathnbr`\n",
    "    - because we already have the finished number of bathrooms\n",
    "- `finishedsquarefeet12`\n",
    "    - because we have our finished square feet already\n",
    "- `propertycountylandusecode`\n",
    "    - because we have the id for this already\n",
    "- `propertyzoningdesc`\n",
    "    - because it is not that helpful\n",
    "- `logerror`\n",
    "    - because logerror is an unknown feature in data dictonary\n",
    "- `transactiondate`\n",
    "    - because it is not that helpful\n",
    "- `yearbuilt`\n",
    "    - because it would not be read as a year but as a numeric value\n",
    "- `taxvaluedollarcnt`\n",
    "    - using this would be cheating\n",
    "- `landtaxvaluedollarcnt`\n",
    "    - using this would be cheating\n",
    "- `taxvaluedollarcnt`\n",
    "    - using this would be cheating\n",
    "- `rawcensustractandblock`\n",
    "    - because it is uneeded\n",
    "- `censustractandblock`\n",
    "    - because it is uneeded"
   ]
  },
  {
   "cell_type": "code",
   "execution_count": 7,
   "metadata": {},
   "outputs": [],
   "source": [
    "df = df.drop(['calculatedbathnbr', 'finishedsquarefeet12', \n",
    "             'propertycountylandusecode', 'logerror', 'transactiondate',  \n",
    "             'yearbuilt', 'landtaxvaluedollarcnt', \n",
    "              'rawcensustractandblock', 'censustractandblock', \n",
    "              'structuretaxvaluedollarcnt', 'parcelid', 'id'], axis=1)"
   ]
  },
  {
   "cell_type": "code",
   "execution_count": 8,
   "metadata": {},
   "outputs": [
    {
     "data": {
      "text/html": [
       "<div>\n",
       "<style scoped>\n",
       "    .dataframe tbody tr th:only-of-type {\n",
       "        vertical-align: middle;\n",
       "    }\n",
       "\n",
       "    .dataframe tbody tr th {\n",
       "        vertical-align: top;\n",
       "    }\n",
       "\n",
       "    .dataframe thead th {\n",
       "        text-align: right;\n",
       "    }\n",
       "</style>\n",
       "<table border=\"1\" class=\"dataframe\">\n",
       "  <thead>\n",
       "    <tr style=\"text-align: right;\">\n",
       "      <th></th>\n",
       "      <th>bathroomcnt</th>\n",
       "      <th>bedroomcnt</th>\n",
       "      <th>calculatedfinishedsquarefeet</th>\n",
       "      <th>fips</th>\n",
       "      <th>fullbathcnt</th>\n",
       "      <th>latitude</th>\n",
       "      <th>longitude</th>\n",
       "      <th>propertylandusetypeid</th>\n",
       "      <th>regionidcity</th>\n",
       "      <th>regionidcounty</th>\n",
       "      <th>regionidzip</th>\n",
       "      <th>roomcnt</th>\n",
       "      <th>taxvaluedollarcnt</th>\n",
       "      <th>assessmentyear</th>\n",
       "      <th>taxamount</th>\n",
       "      <th>house_age</th>\n",
       "      <th>tax_rate</th>\n",
       "    </tr>\n",
       "  </thead>\n",
       "  <tbody>\n",
       "    <tr>\n",
       "      <th>0</th>\n",
       "      <td>2.0</td>\n",
       "      <td>3.0</td>\n",
       "      <td>1125.0</td>\n",
       "      <td>6059.0</td>\n",
       "      <td>2.0</td>\n",
       "      <td>33922098.0</td>\n",
       "      <td>-117954970.0</td>\n",
       "      <td>266.0</td>\n",
       "      <td>18874.0</td>\n",
       "      <td>1286.0</td>\n",
       "      <td>96186.0</td>\n",
       "      <td>6.0</td>\n",
       "      <td>289445.0</td>\n",
       "      <td>2016.0</td>\n",
       "      <td>3490.16</td>\n",
       "      <td>47.0</td>\n",
       "      <td>82.931728</td>\n",
       "    </tr>\n",
       "    <tr>\n",
       "      <th>1</th>\n",
       "      <td>2.0</td>\n",
       "      <td>3.0</td>\n",
       "      <td>1316.0</td>\n",
       "      <td>6037.0</td>\n",
       "      <td>2.0</td>\n",
       "      <td>34033180.0</td>\n",
       "      <td>-118355396.0</td>\n",
       "      <td>261.0</td>\n",
       "      <td>12447.0</td>\n",
       "      <td>3101.0</td>\n",
       "      <td>95997.0</td>\n",
       "      <td>0.0</td>\n",
       "      <td>205123.0</td>\n",
       "      <td>2016.0</td>\n",
       "      <td>2627.48</td>\n",
       "      <td>98.0</td>\n",
       "      <td>78.068339</td>\n",
       "    </tr>\n",
       "    <tr>\n",
       "      <th>2</th>\n",
       "      <td>2.0</td>\n",
       "      <td>3.0</td>\n",
       "      <td>1458.0</td>\n",
       "      <td>6037.0</td>\n",
       "      <td>2.0</td>\n",
       "      <td>34686163.0</td>\n",
       "      <td>-118113100.0</td>\n",
       "      <td>261.0</td>\n",
       "      <td>5534.0</td>\n",
       "      <td>3101.0</td>\n",
       "      <td>97318.0</td>\n",
       "      <td>0.0</td>\n",
       "      <td>136104.0</td>\n",
       "      <td>2016.0</td>\n",
       "      <td>2319.90</td>\n",
       "      <td>51.0</td>\n",
       "      <td>58.668046</td>\n",
       "    </tr>\n",
       "    <tr>\n",
       "      <th>3</th>\n",
       "      <td>2.0</td>\n",
       "      <td>3.0</td>\n",
       "      <td>1766.0</td>\n",
       "      <td>6037.0</td>\n",
       "      <td>2.0</td>\n",
       "      <td>34073222.0</td>\n",
       "      <td>-118390965.0</td>\n",
       "      <td>266.0</td>\n",
       "      <td>10389.0</td>\n",
       "      <td>3101.0</td>\n",
       "      <td>96086.0</td>\n",
       "      <td>0.0</td>\n",
       "      <td>810694.0</td>\n",
       "      <td>2016.0</td>\n",
       "      <td>9407.01</td>\n",
       "      <td>41.0</td>\n",
       "      <td>86.179774</td>\n",
       "    </tr>\n",
       "    <tr>\n",
       "      <th>4</th>\n",
       "      <td>1.0</td>\n",
       "      <td>2.0</td>\n",
       "      <td>1421.0</td>\n",
       "      <td>6037.0</td>\n",
       "      <td>1.0</td>\n",
       "      <td>33999877.0</td>\n",
       "      <td>-118291863.0</td>\n",
       "      <td>261.0</td>\n",
       "      <td>12447.0</td>\n",
       "      <td>3101.0</td>\n",
       "      <td>96018.0</td>\n",
       "      <td>0.0</td>\n",
       "      <td>35606.0</td>\n",
       "      <td>2016.0</td>\n",
       "      <td>543.69</td>\n",
       "      <td>110.0</td>\n",
       "      <td>65.489525</td>\n",
       "    </tr>\n",
       "  </tbody>\n",
       "</table>\n",
       "</div>"
      ],
      "text/plain": [
       "   bathroomcnt  bedroomcnt  calculatedfinishedsquarefeet    fips  fullbathcnt  \\\n",
       "0          2.0         3.0                        1125.0  6059.0          2.0   \n",
       "1          2.0         3.0                        1316.0  6037.0          2.0   \n",
       "2          2.0         3.0                        1458.0  6037.0          2.0   \n",
       "3          2.0         3.0                        1766.0  6037.0          2.0   \n",
       "4          1.0         2.0                        1421.0  6037.0          1.0   \n",
       "\n",
       "     latitude    longitude  propertylandusetypeid  regionidcity  \\\n",
       "0  33922098.0 -117954970.0                  266.0       18874.0   \n",
       "1  34033180.0 -118355396.0                  261.0       12447.0   \n",
       "2  34686163.0 -118113100.0                  261.0        5534.0   \n",
       "3  34073222.0 -118390965.0                  266.0       10389.0   \n",
       "4  33999877.0 -118291863.0                  261.0       12447.0   \n",
       "\n",
       "   regionidcounty  regionidzip  roomcnt  taxvaluedollarcnt  assessmentyear  \\\n",
       "0          1286.0      96186.0      6.0           289445.0          2016.0   \n",
       "1          3101.0      95997.0      0.0           205123.0          2016.0   \n",
       "2          3101.0      97318.0      0.0           136104.0          2016.0   \n",
       "3          3101.0      96086.0      0.0           810694.0          2016.0   \n",
       "4          3101.0      96018.0      0.0            35606.0          2016.0   \n",
       "\n",
       "   taxamount  house_age   tax_rate  \n",
       "0    3490.16       47.0  82.931728  \n",
       "1    2627.48       98.0  78.068339  \n",
       "2    2319.90       51.0  58.668046  \n",
       "3    9407.01       41.0  86.179774  \n",
       "4     543.69      110.0  65.489525  "
      ]
     },
     "execution_count": 8,
     "metadata": {},
     "output_type": "execute_result"
    }
   ],
   "source": [
    "df.head()"
   ]
  },
  {
   "cell_type": "markdown",
   "metadata": {},
   "source": [
    "#### Rename columns:\n",
    "- `bathroomcnt` to \"**bathrooms**\"\n",
    "- `bedroomcnt` to \"**bedrooms**\"\n",
    "- `calculatedfinishedsquarefeet` to \"**house_square_feet**\"\n",
    "- `fullbathcnt` to \"**full_baths**\"\n",
    "- `regionidzip` to \"**zip_code**\"\n",
    "- `regionidcity` to \"**city**\""
   ]
  },
  {
   "cell_type": "code",
   "execution_count": 9,
   "metadata": {},
   "outputs": [],
   "source": [
    "df = df.rename(columns={'bathroomcnt':'bathrooms', 'bedroomcnt':'bedrooms', \n",
    "                       'calculatedfinishedsquarefeet':'square_feet', \n",
    "                       'fullbathcnt':'full_baths', 'regionidzip':'zip_code', \n",
    "                       'regionidcity':'city', 'regionidcounty':'county',\n",
    "                       'taxvaluedollarcnt':'appraised_value', \n",
    "                        'propertylandusetypeid':'house_type'})"
   ]
  },
  {
   "cell_type": "markdown",
   "metadata": {},
   "source": [
    "#### Drop null values left over"
   ]
  },
  {
   "cell_type": "code",
   "execution_count": 10,
   "metadata": {},
   "outputs": [],
   "source": [
    "df = df.dropna()"
   ]
  },
  {
   "cell_type": "markdown",
   "metadata": {},
   "source": [
    "- this ended up dropping from 38582 to 37712\n",
    "    - we lost 870 rows by dropping"
   ]
  },
  {
   "cell_type": "markdown",
   "metadata": {},
   "source": [
    "## Handle outliers"
   ]
  },
  {
   "cell_type": "code",
   "execution_count": 11,
   "metadata": {},
   "outputs": [
    {
     "data": {
      "text/plain": [
       "<AxesSubplot:title={'center':'Distribution of Appraised Values'}, xlabel='appraised_value'>"
      ]
     },
     "execution_count": 11,
     "metadata": {},
     "output_type": "execute_result"
    },
    {
     "data": {
      "image/png": "[encoded data removed]",
      "text/plain": [
       "<Figure size 864x2880 with 6 Axes>"
      ]
     },
     "metadata": {
      "needs_background": "light"
     },
     "output_type": "display_data"
    }
   ],
   "source": [
    "plt.subplots(6, 1, figsize=(12,40), sharey=True)\n",
    "sns.set(style=\"whitegrid\")\n",
    "\n",
    "plt.subplot(6,1,1)\n",
    "plt.title(\"Distribution of Square Feet\", size=20, color='black')\n",
    "sns.boxplot(df.square_feet, color='darkred')\n",
    "    \n",
    "plt.subplot(6,1,2)\n",
    "plt.title(\"Distribution of Bedrooms\", size=20, color='black')\n",
    "sns.boxplot(df.bedrooms, color='darkred')\n",
    "\n",
    "plt.subplot(6,1,3)\n",
    "plt.title(\"Distribution of Bathrooms\", size=20, color='black')\n",
    "sns.boxplot(df.bathrooms, color='darkred')\n",
    "\n",
    "plt.subplot(6,1,4)\n",
    "plt.title(\"Distribution of City\", size=20, color='black')\n",
    "sns.boxplot(df.city, color='darkred')\n",
    "\n",
    "plt.subplot(6,1,5)\n",
    "plt.title(\"Distribution of House Type\", size=20, color='black')\n",
    "sns.boxplot(df.house_type, color='darkred')\n",
    "\n",
    "plt.subplot(6,1,6)\n",
    "plt.title(\"Distribution of Appraised Values\", size=20, color='black')\n",
    "sns.boxplot(df.appraised_value, color='darkred')"
   ]
  },
  {
   "cell_type": "markdown",
   "metadata": {},
   "source": [
    "- Takeaways from boxplots:\n",
    "    - `appraised_value` has an extreme amount of outliers\n",
    "        - I will have to remove because they are skewing the data far too much\n",
    "            - handled using IQR rule\n",
    "    - `square_feet` also has too many outliers\n",
    "        - I will remove these as well because of their affect the data.\n",
    "            - handled using IQR rule\n",
    "    - `bathrooms\n",
    "        - have some outliers\n",
    "            - did not handle due to having to loose 6,880 if I did so\n",
    "    - `bedrooms`\n",
    "        - have some outliers\n",
    "            - handled using IQR rule\n",
    "    - `city`\n",
    "        - have some outliers\n",
    "            - did not handle these outliers due to amount of rows lost if done so\n",
    "    \n",
    "\n",
    "- My questions:\n",
    "    - What is causing these outliers?\n",
    "        - Are there typos?\n",
    "            - Probably not this is southern california the state of overpriced housing.\n",
    "    - How will I go about removing these outliers?\n",
    "    - Is there anything I should remove from the data?"
   ]
  },
  {
   "cell_type": "markdown",
   "metadata": {},
   "source": [
    "#### Handle Outliers of appraised_value"
   ]
  },
  {
   "cell_type": "code",
   "execution_count": 12,
   "metadata": {},
   "outputs": [
    {
     "data": {
      "text/plain": [
       "<AxesSubplot:title={'center':'Distribution of Appraised Values'}, xlabel='appraised_value'>"
      ]
     },
     "execution_count": 12,
     "metadata": {},
     "output_type": "execute_result"
    },
    {
     "data": {
      "image/png": "[encoded data removed]",
      "text/plain": [
       "<Figure size 432x288 with 1 Axes>"
      ]
     },
     "metadata": {},
     "output_type": "display_data"
    }
   ],
   "source": [
    "# boxplot before handling our outliers\n",
    "plt.title(\"Distribution of Appraised Values\", size=20, color='black')\n",
    "sns.boxplot(df.appraised_value, color='darkred')"
   ]
  },
  {
   "cell_type": "markdown",
   "metadata": {},
   "source": [
    "- `appraised_value` has an extreme amount of outliers\n",
    "    - I will have to remove because they are skewing the data far too much\n",
    "        - I will do this by using the IQR rule"
   ]
  },
  {
   "cell_type": "code",
   "execution_count": 13,
   "metadata": {},
   "outputs": [
    {
     "data": {
      "text/plain": [
       "count    3.769200e+04\n",
       "mean     4.937715e+05\n",
       "std      6.273602e+05\n",
       "min      1.000000e+03\n",
       "25%      2.080300e+05\n",
       "50%      3.620010e+05\n",
       "75%      5.742248e+05\n",
       "max      2.385837e+07\n",
       "Name: appraised_value, dtype: float64"
      ]
     },
     "execution_count": 13,
     "metadata": {},
     "output_type": "execute_result"
    }
   ],
   "source": [
    "df.appraised_value.describe()"
   ]
  },
  {
   "cell_type": "code",
   "execution_count": 14,
   "metadata": {},
   "outputs": [
    {
     "name": "stdout",
     "output_type": "stream",
     "text": [
      "q1 = : 208030.0\n",
      "q3 = : 574224.75\n",
      "IQR = : 366194.75\n"
     ]
    }
   ],
   "source": [
    "# Let's use IQR for the entire dataset\n",
    "q1 = df.appraised_value.quantile(.25)\n",
    "q3 = df.appraised_value.quantile(.75)\n",
    "iqr = q3 - q1\n",
    "\n",
    "print(f'q1 = :', q1) \n",
    "print(f'q3 = :', q3)\n",
    "print(f'IQR = :', iqr)"
   ]
  },
  {
   "cell_type": "code",
   "execution_count": 15,
   "metadata": {},
   "outputs": [
    {
     "name": "stdout",
     "output_type": "stream",
     "text": [
      "Upper Bound = : 1672809.0\n",
      "Lower Bound = : -890554.25\n"
     ]
    }
   ],
   "source": [
    "# IQR has a parameter that is a 'multiplier'\n",
    "multiplier = 1.5\n",
    "upper_bound = q3 + (multiplier * iqr)\n",
    "lower_bound = q1 - (multiplier * iqr)\n",
    "\n",
    "print(f'Upper Bound = :', upper_bound) \n",
    "print(f'Lower Bound = :', lower_bound) \n",
    "# since the lower bound is the negatives, it will have no affect"
   ]
  },
  {
   "cell_type": "code",
   "execution_count": 16,
   "metadata": {},
   "outputs": [
    {
     "data": {
      "text/plain": [
       "(37692, 17)"
      ]
     },
     "execution_count": 16,
     "metadata": {},
     "output_type": "execute_result"
    }
   ],
   "source": [
    "df.shape"
   ]
  },
  {
   "cell_type": "code",
   "execution_count": 17,
   "metadata": {},
   "outputs": [
    {
     "data": {
      "text/plain": [
       "(36561, 17)"
      ]
     },
     "execution_count": 17,
     "metadata": {},
     "output_type": "execute_result"
    }
   ],
   "source": [
    "# lets say give us everyhting less than the upper bound\n",
    "df = df[df.appraised_value < upper_bound]\n",
    "df.shape\n",
    "# df have gone from 37,711 rows to 35,187 rows\n",
    "    # the df has lost 2,524 rows"
   ]
  },
  {
   "cell_type": "code",
   "execution_count": 18,
   "metadata": {},
   "outputs": [
    {
     "data": {
      "text/plain": [
       "<AxesSubplot:title={'center':'Distribution of Appraised Values without Outliers'}, xlabel='appraised_value'>"
      ]
     },
     "execution_count": 18,
     "metadata": {},
     "output_type": "execute_result"
    },
    {
     "data": {
      "image/png": "[encoded data removed]",
      "text/plain": [
       "<Figure size 432x288 with 1 Axes>"
      ]
     },
     "metadata": {},
     "output_type": "display_data"
    }
   ],
   "source": [
    "# boxplot before handling our outliers\n",
    "plt.title(\"Distribution of Appraised Values without Outliers\", size=20, color='black')\n",
    "sns.boxplot(df.appraised_value, color='darkred')"
   ]
  },
  {
   "cell_type": "markdown",
   "metadata": {},
   "source": [
    "##### Use this in the prepare.py clean_zillow function"
   ]
  },
  {
   "cell_type": "code",
   "execution_count": 19,
   "metadata": {},
   "outputs": [],
   "source": [
    "df = df[df.appraised_value <= 1_123_603.75]"
   ]
  },
  {
   "cell_type": "markdown",
   "metadata": {},
   "source": [
    "#### Handle Outliers of square_feet"
   ]
  },
  {
   "cell_type": "code",
   "execution_count": 20,
   "metadata": {},
   "outputs": [
    {
     "data": {
      "text/plain": [
       "<AxesSubplot:title={'center':'Distribution of Square Feet with Outliers'}, xlabel='square_feet'>"
      ]
     },
     "execution_count": 20,
     "metadata": {},
     "output_type": "execute_result"
    },
    {
     "data": {
      "image/png": "[encoded data removed]",
      "text/plain": [
       "<Figure size 432x288 with 1 Axes>"
      ]
     },
     "metadata": {},
     "output_type": "display_data"
    }
   ],
   "source": [
    "# boxplot before handling our outliers\n",
    "plt.title(\"Distribution of Square Feet with Outliers\", size=20, color='black')\n",
    "sns.boxplot(df.square_feet, color='darkred')"
   ]
  },
  {
   "cell_type": "markdown",
   "metadata": {},
   "source": [
    "- `square_feet` also has too many outliers\n",
    "    - I will remove these as well because of their affect the data.\n",
    "        - I will remove them using the IQR rule"
   ]
  },
  {
   "cell_type": "code",
   "execution_count": 21,
   "metadata": {},
   "outputs": [
    {
     "data": {
      "text/plain": [
       "count    35170.000000\n",
       "mean      1626.094143\n",
       "std        685.079619\n",
       "min        240.000000\n",
       "25%       1149.000000\n",
       "50%       1472.000000\n",
       "75%       1941.000000\n",
       "max       7942.000000\n",
       "Name: square_feet, dtype: float64"
      ]
     },
     "execution_count": 21,
     "metadata": {},
     "output_type": "execute_result"
    }
   ],
   "source": [
    "df.square_feet.describe()"
   ]
  },
  {
   "cell_type": "code",
   "execution_count": 22,
   "metadata": {},
   "outputs": [
    {
     "name": "stdout",
     "output_type": "stream",
     "text": [
      "q1 = : 1149.0\n",
      "q3 = : 1941.0\n",
      "IQR = : 792.0\n"
     ]
    }
   ],
   "source": [
    "# Let's use IQR for the entire dataset\n",
    "q1 = df.square_feet.quantile(.25)\n",
    "q3 = df.square_feet.quantile(.75)\n",
    "iqr = q3 - q1\n",
    "\n",
    "print(f'q1 = :', q1) \n",
    "print(f'q3 = :', q3)\n",
    "print(f'IQR = :', iqr)"
   ]
  },
  {
   "cell_type": "code",
   "execution_count": 23,
   "metadata": {},
   "outputs": [
    {
     "name": "stdout",
     "output_type": "stream",
     "text": [
      "Upper Bound = : 4317.0\n",
      "Lower Bound = : -1227.0\n"
     ]
    }
   ],
   "source": [
    "# IQR has a parameter that is a 'multiplier'\n",
    "multiplier = 1.5\n",
    "upper_bound = q3 + (multiplier * iqr)\n",
    "lower_bound = q1 - (multiplier * iqr)\n",
    "\n",
    "print(f'Upper Bound = :', upper_bound) \n",
    "print(f'Lower Bound = :', lower_bound) \n",
    "# since the lower bound is the negatives, it will have no affect"
   ]
  },
  {
   "cell_type": "code",
   "execution_count": 24,
   "metadata": {},
   "outputs": [
    {
     "data": {
      "text/plain": [
       "(35170, 17)"
      ]
     },
     "execution_count": 24,
     "metadata": {},
     "output_type": "execute_result"
    }
   ],
   "source": [
    "df.shape"
   ]
  },
  {
   "cell_type": "code",
   "execution_count": 25,
   "metadata": {},
   "outputs": [
    {
     "data": {
      "text/plain": [
       "(35033, 17)"
      ]
     },
     "execution_count": 25,
     "metadata": {},
     "output_type": "execute_result"
    }
   ],
   "source": [
    "# lets say give us everyhting less than the upper bound\n",
    "df = df[df.square_feet < upper_bound]\n",
    "df.shape\n",
    "# df have gone from 35,187 rows to 33,849 rows\n",
    "    # the df has lost 1,338 rows"
   ]
  },
  {
   "cell_type": "code",
   "execution_count": 26,
   "metadata": {},
   "outputs": [
    {
     "data": {
      "text/plain": [
       "<AxesSubplot:title={'center':'Distribution of Square Feet without Outliers'}, xlabel='square_feet'>"
      ]
     },
     "execution_count": 26,
     "metadata": {},
     "output_type": "execute_result"
    },
    {
     "data": {
      "image/png": "[encoded data removed]",
      "text/plain": [
       "<Figure size 432x288 with 1 Axes>"
      ]
     },
     "metadata": {},
     "output_type": "display_data"
    }
   ],
   "source": [
    "# boxplot before handling our outliers\n",
    "plt.title(\"Distribution of Square Feet without Outliers\", size=20, color='black')\n",
    "sns.boxplot(df.square_feet, color='darkred')"
   ]
  },
  {
   "cell_type": "markdown",
   "metadata": {},
   "source": [
    "##### Use this in the prepare.py clean_zillow function"
   ]
  },
  {
   "cell_type": "code",
   "execution_count": 27,
   "metadata": {},
   "outputs": [],
   "source": [
    "df = df[df.square_feet <= 3_131.5]"
   ]
  },
  {
   "cell_type": "markdown",
   "metadata": {},
   "source": [
    "#### Handle Outliers of bedrooms"
   ]
  },
  {
   "cell_type": "code",
   "execution_count": 28,
   "metadata": {},
   "outputs": [
    {
     "data": {
      "text/plain": [
       "<AxesSubplot:title={'center':'Distribution of Bedrooms with Outliers'}, xlabel='bedrooms'>"
      ]
     },
     "execution_count": 28,
     "metadata": {},
     "output_type": "execute_result"
    },
    {
     "data": {
      "image/png": "[encoded data removed]",
      "text/plain": [
       "<Figure size 432x288 with 1 Axes>"
      ]
     },
     "metadata": {},
     "output_type": "display_data"
    }
   ],
   "source": [
    "# boxplot before handling our outliers\n",
    "plt.title(\"Distribution of Bedrooms with Outliers\", size=20, color='black')\n",
    "sns.boxplot(df.bedrooms, color='darkred')"
   ]
  },
  {
   "cell_type": "markdown",
   "metadata": {},
   "source": [
    "- `bedrooms`\n",
    "    - have some outliers"
   ]
  },
  {
   "cell_type": "code",
   "execution_count": 29,
   "metadata": {},
   "outputs": [
    {
     "data": {
      "text/plain": [
       "count    33834.000000\n",
       "mean         2.894012\n",
       "std          0.927546\n",
       "min          0.000000\n",
       "25%          2.000000\n",
       "50%          3.000000\n",
       "75%          3.000000\n",
       "max          9.000000\n",
       "Name: bedrooms, dtype: float64"
      ]
     },
     "execution_count": 29,
     "metadata": {},
     "output_type": "execute_result"
    }
   ],
   "source": [
    "df.bedrooms.describe()"
   ]
  },
  {
   "cell_type": "code",
   "execution_count": 30,
   "metadata": {},
   "outputs": [
    {
     "name": "stdout",
     "output_type": "stream",
     "text": [
      "q1 = : 2.0\n",
      "q3 = : 3.0\n",
      "IQR = : 1.0\n"
     ]
    }
   ],
   "source": [
    "# Let's use IQR for the entire dataset\n",
    "q1 = df.bedrooms.quantile(.25)\n",
    "q3 = df.bedrooms.quantile(.75)\n",
    "iqr = q3 - q1\n",
    "\n",
    "print(f'q1 = :', q1) \n",
    "print(f'q3 = :', q3)\n",
    "print(f'IQR = :', iqr)"
   ]
  },
  {
   "cell_type": "code",
   "execution_count": 31,
   "metadata": {},
   "outputs": [
    {
     "name": "stdout",
     "output_type": "stream",
     "text": [
      "Upper Bound = : 6.0\n",
      "Lower Bound = : -1.0\n"
     ]
    }
   ],
   "source": [
    "# IQR has a parameter that is a 'multiplier'\n",
    "multiplier = 1.5\n",
    "upper_bound = q3 + (multiplier * iqr)\n",
    "lower_bound = q1 - (multiplier * iqr)\n",
    "\n",
    "print(f'Upper Bound = :', upper_bound) \n",
    "print(f'Lower Bound = :', lower_bound) "
   ]
  },
  {
   "cell_type": "code",
   "execution_count": 32,
   "metadata": {},
   "outputs": [
    {
     "data": {
      "text/plain": [
       "(33834, 17)"
      ]
     },
     "execution_count": 32,
     "metadata": {},
     "output_type": "execute_result"
    }
   ],
   "source": [
    "df.shape"
   ]
  },
  {
   "cell_type": "code",
   "execution_count": 33,
   "metadata": {},
   "outputs": [
    {
     "data": {
      "text/plain": [
       "(33713, 17)"
      ]
     },
     "execution_count": 33,
     "metadata": {},
     "output_type": "execute_result"
    }
   ],
   "source": [
    "# filter out the low outliers\n",
    "df = df[df.bedrooms > lower_bound]\n",
    "\n",
    "# lets say give us everyhting less than the upper bound\n",
    "df = df[df.bedrooms < upper_bound]\n",
    "\n",
    "df.shape\n",
    "# df have gone from 33,849 rows to 32,538 rows\n",
    "    # the df has lost 1,311 rows"
   ]
  },
  {
   "cell_type": "code",
   "execution_count": 34,
   "metadata": {},
   "outputs": [
    {
     "data": {
      "text/plain": [
       "<AxesSubplot:title={'center':'Distribution of Bedrooms without Outliers'}, xlabel='bedrooms'>"
      ]
     },
     "execution_count": 34,
     "metadata": {},
     "output_type": "execute_result"
    },
    {
     "data": {
      "image/png": "[encoded data removed]",
      "text/plain": [
       "<Figure size 432x288 with 1 Axes>"
      ]
     },
     "metadata": {},
     "output_type": "display_data"
    }
   ],
   "source": [
    "# boxplot before handling our outliers\n",
    "plt.title(\"Distribution of Bedrooms without Outliers\", size=20, color='black')\n",
    "sns.boxplot(df.bedrooms, color='darkred')"
   ]
  },
  {
   "cell_type": "markdown",
   "metadata": {},
   "source": [
    "##### Use this in the prepare.py clean_zillow function"
   ]
  },
  {
   "cell_type": "code",
   "execution_count": 35,
   "metadata": {},
   "outputs": [],
   "source": [
    "df = df[df.square_feet <= 4.5]\n",
    "df = df[df.square_feet >= 0.5]"
   ]
  },
  {
   "cell_type": "code",
   "execution_count": null,
   "metadata": {},
   "outputs": [],
   "source": []
  },
  {
   "cell_type": "code",
   "execution_count": null,
   "metadata": {},
   "outputs": [],
   "source": []
  },
  {
   "cell_type": "code",
   "execution_count": 36,
   "metadata": {},
   "outputs": [
    {
     "data": {
      "text/html": [
       "<div>\n",
       "<style scoped>\n",
       "    .dataframe tbody tr th:only-of-type {\n",
       "        vertical-align: middle;\n",
       "    }\n",
       "\n",
       "    .dataframe tbody tr th {\n",
       "        vertical-align: top;\n",
       "    }\n",
       "\n",
       "    .dataframe thead th {\n",
       "        text-align: right;\n",
       "    }\n",
       "</style>\n",
       "<table border=\"1\" class=\"dataframe\">\n",
       "  <thead>\n",
       "    <tr style=\"text-align: right;\">\n",
       "      <th></th>\n",
       "      <th>bathrooms</th>\n",
       "      <th>bedrooms</th>\n",
       "      <th>square_feet</th>\n",
       "      <th>fips</th>\n",
       "      <th>full_baths</th>\n",
       "      <th>latitude</th>\n",
       "      <th>longitude</th>\n",
       "      <th>house_type</th>\n",
       "      <th>city</th>\n",
       "      <th>county</th>\n",
       "      <th>zip_code</th>\n",
       "      <th>roomcnt</th>\n",
       "      <th>appraised_value</th>\n",
       "      <th>assessmentyear</th>\n",
       "      <th>taxamount</th>\n",
       "      <th>house_age</th>\n",
       "      <th>tax_rate</th>\n",
       "    </tr>\n",
       "  </thead>\n",
       "  <tbody>\n",
       "  </tbody>\n",
       "</table>\n",
       "</div>"
      ],
      "text/plain": [
       "Empty DataFrame\n",
       "Columns: [bathrooms, bedrooms, square_feet, fips, full_baths, latitude, longitude, house_type, city, county, zip_code, roomcnt, appraised_value, assessmentyear, taxamount, house_age, tax_rate]\n",
       "Index: []"
      ]
     },
     "execution_count": 36,
     "metadata": {},
     "output_type": "execute_result"
    }
   ],
   "source": [
    "df.head()"
   ]
  },
  {
   "cell_type": "code",
   "execution_count": 37,
   "metadata": {},
   "outputs": [],
   "source": [
    "df = acquire.acquire_zillow()"
   ]
  },
  {
   "cell_type": "code",
   "execution_count": 38,
   "metadata": {},
   "outputs": [],
   "source": [
    "df = prepare.clean_zillow(df)"
   ]
  },
  {
   "cell_type": "code",
   "execution_count": 39,
   "metadata": {},
   "outputs": [
    {
     "data": {
      "text/plain": [
       "Text(0.5, 1.0, 'Zillow Correlation Heatmap of Trained Data without Scaling')"
      ]
     },
     "execution_count": 39,
     "metadata": {},
     "output_type": "execute_result"
    },
    {
     "data": {
      "image/png": "[encoded data removed]",
      "text/plain": [
       "<Figure size 1152x432 with 2 Axes>"
      ]
     },
     "metadata": {},
     "output_type": "display_data"
    }
   ],
   "source": [
    "plt.figure(figsize=(16, 6))\n",
    "corr_map = sns.heatmap(df.corr(), cmap=\"BuPu\", vmin=-1, vmax=1, annot=True)\n",
    "corr_map.set_title('Zillow Correlation Heatmap of Trained Data without Scaling', fontdict={'fontsize':18}, pad=12)\n",
    "# '-' (negative) is still correlation but is downward slope not upward"
   ]
  },
  {
   "cell_type": "markdown",
   "metadata": {},
   "source": [
    "- Takeaways\n",
    "    - my target is `appraised_value`\n",
    "        - strongest correlations are\n",
    "            - square_feet\n",
    "                - 0.61\n",
    "            - bathrooms\n",
    "                - 0.51\n",
    "            - bedrooms\n",
    "                - 0.29\n",
    "            - house_age\n",
    "                - 0.13\n",
    "            - lattitude\n",
    "                - 0.11\n",
    "            - house_type\n",
    "                - 0.1"
   ]
  },
  {
   "cell_type": "markdown",
   "metadata": {},
   "source": [
    "Lets focus on some features"
   ]
  },
  {
   "cell_type": "code",
   "execution_count": 40,
   "metadata": {},
   "outputs": [],
   "source": [
    "df = prepare.focused_zillow(df)"
   ]
  },
  {
   "cell_type": "code",
   "execution_count": 41,
   "metadata": {},
   "outputs": [
    {
     "name": "stdout",
     "output_type": "stream",
     "text": [
      "<class 'pandas.core.frame.DataFrame'>\n",
      "Int64Index: 32542 entries, 0 to 38581\n",
      "Data columns (total 4 columns):\n",
      " #   Column           Non-Null Count  Dtype  \n",
      "---  ------           --------------  -----  \n",
      " 0   square_feet      32542 non-null  float64\n",
      " 1   bedrooms         32542 non-null  float64\n",
      " 2   bathrooms        32542 non-null  float64\n",
      " 3   appraised_value  32542 non-null  float64\n",
      "dtypes: float64(4)\n",
      "memory usage: 1.2 MB\n"
     ]
    }
   ],
   "source": [
    "df.info()"
   ]
  },
  {
   "cell_type": "code",
   "execution_count": 42,
   "metadata": {},
   "outputs": [
    {
     "data": {
      "text/html": [
       "<div>\n",
       "<style scoped>\n",
       "    .dataframe tbody tr th:only-of-type {\n",
       "        vertical-align: middle;\n",
       "    }\n",
       "\n",
       "    .dataframe tbody tr th {\n",
       "        vertical-align: top;\n",
       "    }\n",
       "\n",
       "    .dataframe thead th {\n",
       "        text-align: right;\n",
       "    }\n",
       "</style>\n",
       "<table border=\"1\" class=\"dataframe\">\n",
       "  <thead>\n",
       "    <tr style=\"text-align: right;\">\n",
       "      <th></th>\n",
       "      <th>square_feet</th>\n",
       "      <th>bedrooms</th>\n",
       "      <th>bathrooms</th>\n",
       "      <th>appraised_value</th>\n",
       "    </tr>\n",
       "  </thead>\n",
       "  <tbody>\n",
       "    <tr>\n",
       "      <th>count</th>\n",
       "      <td>32542.000000</td>\n",
       "      <td>32542.000000</td>\n",
       "      <td>32542.000000</td>\n",
       "      <td>3.254200e+04</td>\n",
       "    </tr>\n",
       "    <tr>\n",
       "      <th>mean</th>\n",
       "      <td>1517.124209</td>\n",
       "      <td>2.824196</td>\n",
       "      <td>2.074642</td>\n",
       "      <td>3.644769e+05</td>\n",
       "    </tr>\n",
       "    <tr>\n",
       "      <th>std</th>\n",
       "      <td>529.219531</td>\n",
       "      <td>0.821697</td>\n",
       "      <td>0.693076</td>\n",
       "      <td>2.270200e+05</td>\n",
       "    </tr>\n",
       "    <tr>\n",
       "      <th>min</th>\n",
       "      <td>242.000000</td>\n",
       "      <td>1.000000</td>\n",
       "      <td>1.000000</td>\n",
       "      <td>1.050400e+04</td>\n",
       "    </tr>\n",
       "    <tr>\n",
       "      <th>25%</th>\n",
       "      <td>1130.000000</td>\n",
       "      <td>2.000000</td>\n",
       "      <td>2.000000</td>\n",
       "      <td>1.915722e+05</td>\n",
       "    </tr>\n",
       "    <tr>\n",
       "      <th>50%</th>\n",
       "      <td>1424.000000</td>\n",
       "      <td>3.000000</td>\n",
       "      <td>2.000000</td>\n",
       "      <td>3.294540e+05</td>\n",
       "    </tr>\n",
       "    <tr>\n",
       "      <th>75%</th>\n",
       "      <td>1818.000000</td>\n",
       "      <td>3.000000</td>\n",
       "      <td>2.500000</td>\n",
       "      <td>4.929138e+05</td>\n",
       "    </tr>\n",
       "    <tr>\n",
       "      <th>max</th>\n",
       "      <td>3130.000000</td>\n",
       "      <td>4.000000</td>\n",
       "      <td>7.500000</td>\n",
       "      <td>1.123324e+06</td>\n",
       "    </tr>\n",
       "  </tbody>\n",
       "</table>\n",
       "</div>"
      ],
      "text/plain": [
       "        square_feet      bedrooms     bathrooms  appraised_value\n",
       "count  32542.000000  32542.000000  32542.000000     3.254200e+04\n",
       "mean    1517.124209      2.824196      2.074642     3.644769e+05\n",
       "std      529.219531      0.821697      0.693076     2.270200e+05\n",
       "min      242.000000      1.000000      1.000000     1.050400e+04\n",
       "25%     1130.000000      2.000000      2.000000     1.915722e+05\n",
       "50%     1424.000000      3.000000      2.000000     3.294540e+05\n",
       "75%     1818.000000      3.000000      2.500000     4.929138e+05\n",
       "max     3130.000000      4.000000      7.500000     1.123324e+06"
      ]
     },
     "execution_count": 42,
     "metadata": {},
     "output_type": "execute_result"
    }
   ],
   "source": [
    "df.describe()"
   ]
  },
  {
   "cell_type": "code",
   "execution_count": 43,
   "metadata": {},
   "outputs": [
    {
     "data": {
      "text/plain": [
       "square_feet  bedrooms  bathrooms  appraised_value\n",
       "610.0        1.0       1.0        258000.0           5\n",
       "680.0        1.0       1.0        326000.0           5\n",
       "648.0        1.0       1.0        328000.0           4\n",
       "1267.0       2.0       2.5        538000.0           4\n",
       "610.0        1.0       1.0        215131.0           4\n",
       "                                                    ..\n",
       "1662.0       3.0       2.0        93973.0            1\n",
       "                                  117249.0           1\n",
       "                                  277052.0           1\n",
       "                                  299140.0           1\n",
       "242.0        1.0       1.0        62381.0            1\n",
       "Length: 32353, dtype: int64"
      ]
     },
     "execution_count": 43,
     "metadata": {},
     "output_type": "execute_result"
    }
   ],
   "source": [
    "df.value_counts()"
   ]
  },
  {
   "cell_type": "code",
   "execution_count": 44,
   "metadata": {},
   "outputs": [
    {
     "data": {
      "text/plain": [
       "square_feet        0\n",
       "bedrooms           0\n",
       "bathrooms          0\n",
       "appraised_value    0\n",
       "dtype: int64"
      ]
     },
     "execution_count": 44,
     "metadata": {},
     "output_type": "execute_result"
    }
   ],
   "source": [
    "df.isna().sum()"
   ]
  },
  {
   "cell_type": "code",
   "execution_count": 45,
   "metadata": {},
   "outputs": [
    {
     "data": {
      "text/plain": [
       "square_feet        0\n",
       "bedrooms           0\n",
       "bathrooms          0\n",
       "appraised_value    0\n",
       "dtype: int64"
      ]
     },
     "execution_count": 45,
     "metadata": {},
     "output_type": "execute_result"
    }
   ],
   "source": [
    "df.isnull().sum()\n",
    "# woohoo no more nulls"
   ]
  },
  {
   "cell_type": "code",
   "execution_count": 46,
   "metadata": {},
   "outputs": [
    {
     "data": {
      "text/plain": [
       "<bound method Series.unique of 0        1125.0\n",
       "1        1316.0\n",
       "2        1458.0\n",
       "3        1766.0\n",
       "4        1421.0\n",
       "          ...  \n",
       "38575     900.0\n",
       "38576    1187.0\n",
       "38578     769.0\n",
       "38579    1212.0\n",
       "38581    1574.0\n",
       "Name: square_feet, Length: 32542, dtype: float64>"
      ]
     },
     "execution_count": 46,
     "metadata": {},
     "output_type": "execute_result"
    }
   ],
   "source": [
    "df.square_feet.unique"
   ]
  },
  {
   "cell_type": "code",
   "execution_count": 47,
   "metadata": {},
   "outputs": [
    {
     "data": {
      "text/plain": [
       "array([3., 2., 4., 1.])"
      ]
     },
     "execution_count": 47,
     "metadata": {},
     "output_type": "execute_result"
    }
   ],
   "source": [
    "df.bedrooms.unique()"
   ]
  },
  {
   "cell_type": "code",
   "execution_count": 48,
   "metadata": {},
   "outputs": [
    {
     "data": {
      "text/plain": [
       "array([2. , 1. , 3. , 1.5, 2.5, 4. , 3.5, 4.5, 6. , 5. , 7.5])"
      ]
     },
     "execution_count": 48,
     "metadata": {},
     "output_type": "execute_result"
    }
   ],
   "source": [
    "df.bathrooms.unique()"
   ]
  },
  {
   "cell_type": "code",
   "execution_count": 49,
   "metadata": {},
   "outputs": [
    {
     "data": {
      "text/plain": [
       "<bound method Series.unique of 0        289445.0\n",
       "1        205123.0\n",
       "2        136104.0\n",
       "3        810694.0\n",
       "4         35606.0\n",
       "           ...   \n",
       "38575    119659.0\n",
       "38576    465999.0\n",
       "38578    492395.0\n",
       "38579    600608.0\n",
       "38581    563463.0\n",
       "Name: appraised_value, Length: 32542, dtype: float64>"
      ]
     },
     "execution_count": 49,
     "metadata": {},
     "output_type": "execute_result"
    }
   ],
   "source": [
    "df.appraised_value.unique"
   ]
  },
  {
   "cell_type": "markdown",
   "metadata": {},
   "source": [
    "Lets split the data into train, validate, and test."
   ]
  },
  {
   "cell_type": "code",
   "execution_count": 50,
   "metadata": {},
   "outputs": [
    {
     "data": {
      "text/html": [
       "<div>\n",
       "<style scoped>\n",
       "    .dataframe tbody tr th:only-of-type {\n",
       "        vertical-align: middle;\n",
       "    }\n",
       "\n",
       "    .dataframe tbody tr th {\n",
       "        vertical-align: top;\n",
       "    }\n",
       "\n",
       "    .dataframe thead th {\n",
       "        text-align: right;\n",
       "    }\n",
       "</style>\n",
       "<table border=\"1\" class=\"dataframe\">\n",
       "  <thead>\n",
       "    <tr style=\"text-align: right;\">\n",
       "      <th></th>\n",
       "      <th>square_feet</th>\n",
       "      <th>bedrooms</th>\n",
       "      <th>bathrooms</th>\n",
       "      <th>appraised_value</th>\n",
       "    </tr>\n",
       "  </thead>\n",
       "  <tbody>\n",
       "    <tr>\n",
       "      <th>31538</th>\n",
       "      <td>1050.0</td>\n",
       "      <td>2.0</td>\n",
       "      <td>1.0</td>\n",
       "      <td>292000.0</td>\n",
       "    </tr>\n",
       "    <tr>\n",
       "      <th>5911</th>\n",
       "      <td>715.0</td>\n",
       "      <td>1.0</td>\n",
       "      <td>1.0</td>\n",
       "      <td>97093.0</td>\n",
       "    </tr>\n",
       "    <tr>\n",
       "      <th>20091</th>\n",
       "      <td>2097.0</td>\n",
       "      <td>2.0</td>\n",
       "      <td>2.0</td>\n",
       "      <td>80091.0</td>\n",
       "    </tr>\n",
       "    <tr>\n",
       "      <th>36157</th>\n",
       "      <td>1216.0</td>\n",
       "      <td>3.0</td>\n",
       "      <td>1.0</td>\n",
       "      <td>34746.0</td>\n",
       "    </tr>\n",
       "    <tr>\n",
       "      <th>1799</th>\n",
       "      <td>1523.0</td>\n",
       "      <td>3.0</td>\n",
       "      <td>3.0</td>\n",
       "      <td>177000.0</td>\n",
       "    </tr>\n",
       "  </tbody>\n",
       "</table>\n",
       "</div>"
      ],
      "text/plain": [
       "       square_feet  bedrooms  bathrooms  appraised_value\n",
       "31538       1050.0       2.0        1.0         292000.0\n",
       "5911         715.0       1.0        1.0          97093.0\n",
       "20091       2097.0       2.0        2.0          80091.0\n",
       "36157       1216.0       3.0        1.0          34746.0\n",
       "1799        1523.0       3.0        3.0         177000.0"
      ]
     },
     "execution_count": 50,
     "metadata": {},
     "output_type": "execute_result"
    }
   ],
   "source": [
    "train, validate, test = prepare.split_focused_zillow(df)\n",
    "train.head()"
   ]
  },
  {
   "cell_type": "code",
   "execution_count": 51,
   "metadata": {},
   "outputs": [
    {
     "name": "stdout",
     "output_type": "stream",
     "text": [
      "<class 'pandas.core.frame.DataFrame'>\n",
      "Int64Index: 18223 entries, 31538 to 20146\n",
      "Data columns (total 4 columns):\n",
      " #   Column           Non-Null Count  Dtype  \n",
      "---  ------           --------------  -----  \n",
      " 0   square_feet      18223 non-null  float64\n",
      " 1   bedrooms         18223 non-null  float64\n",
      " 2   bathrooms        18223 non-null  float64\n",
      " 3   appraised_value  18223 non-null  float64\n",
      "dtypes: float64(4)\n",
      "memory usage: 711.8 KB\n"
     ]
    }
   ],
   "source": [
    "train.info()"
   ]
  },
  {
   "cell_type": "code",
   "execution_count": null,
   "metadata": {},
   "outputs": [],
   "source": []
  }
 ],
 "metadata": {
  "kernelspec": {
   "display_name": "Python 3",
   "language": "python",
   "name": "python3"
  },
  "language_info": {
   "codemirror_mode": {
    "name": "ipython",
    "version": 3
   },
   "file_extension": ".py",
   "mimetype": "text/x-python",
   "name": "python",
   "nbconvert_exporter": "python",
   "pygments_lexer": "ipython3",
   "version": "3.8.5"
  }
 },
 "nbformat": 4,
 "nbformat_minor": 4
}
